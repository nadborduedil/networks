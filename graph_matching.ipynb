{
 "metadata": {
  "name": "",
  "signature": "sha256:cf273843fbf9097dd2a84f887dde01a5fbc62692a85263014d00f870b8079e0e"
 },
 "nbformat": 3,
 "nbformat_minor": 0,
 "worksheets": [
  {
   "cells": [
    {
     "cell_type": "code",
     "collapsed": false,
     "input": [
      "try:\n",
      "    reload(gm)\n",
      "except:\n",
      "    import graph_matching as gm\n",
      "from time import time\n",
      "import networkx as nx\n",
      "import numpy as np\n",
      "import matplotlib.pyplot as plt\n",
      "%matplotlib inline"
     ],
     "language": "python",
     "metadata": {},
     "outputs": [],
     "prompt_number": 1
    },
    {
     "cell_type": "code",
     "collapsed": false,
     "input": [
      "# g = nx.random_geometric_graph(500, 0.1)\n",
      "# g = max(nx.connected_component_subgraphs(g),key=len)\n",
      "# g=nx.random_lobster(200, 0.8, 0.7)\n",
      "import network_generation as netgen\n",
      "seed_graph = nx.random_regular_graph(3, 8)\n",
      "g = netgen.kronecker_graph(seed_graph, 2)"
     ],
     "language": "python",
     "metadata": {},
     "outputs": [],
     "prompt_number": 2
    },
    {
     "cell_type": "code",
     "collapsed": false,
     "input": [
      "import network_matching as netmatch\n",
      "\n",
      "ga = netgen.decimated_graph(g, 0.8, 0.8)\n",
      "gb = netgen.decimated_graph(g, 0.8, 0.8)\n",
      "pga, pgb, true_match = netgen.permute_graphs(ga, gb)\n",
      "anchors, cands = netgen.get_anchors_candidates(pga, pgb, true_match, 5, 8)"
     ],
     "language": "python",
     "metadata": {},
     "outputs": [],
     "prompt_number": 4
    },
    {
     "cell_type": "code",
     "collapsed": false,
     "input": [
      "netmatch.generate_matches(pga, pgb, anchors, cands, true_match)"
     ],
     "language": "python",
     "metadata": {},
     "outputs": [
      {
       "metadata": {},
       "output_type": "pyout",
       "prompt_number": 5,
       "text": [
        "[(1, 46, 1.2750121984749554, 46),\n",
        " (2, 48, 1.1836649534346531, 18),\n",
        " (5, 1, 1.1689977506383267, 1),\n",
        " (8, 33, 1.3123778498007774, 33),\n",
        " (10, 37, 1.3426057901580681, 21),\n",
        " (11, 41, 0.091361390956954114, 37),\n",
        " (13, 7, 1.0536812066235337, 41),\n",
        " (14, 61, 0.048951292607892841, 56),\n",
        " (15, 28, 1.200767749650324, 28),\n",
        " (16, 62, 1.5613711148034828, 62),\n",
        " (17, 19, 2.1111361610784347, 35),\n",
        " (18, 54, 1.4165906246917277, 54),\n",
        " (19, 2, 0.86484696905772984, 2),\n",
        " (21, 16, 1.5007754354768346, 16),\n",
        " (22, 38, 2.0326442191001566, 22),\n",
        " (23, 29, 1.0119282769587032, 34),\n",
        " (25, 7, 0.21591480442234895, 59),\n",
        " (27, 51, 1.0447687401748165, 51),\n",
        " (28, 29, 0.20579289167541184, 29),\n",
        " (29, 15, 2.0491256586106474, 15),\n",
        " (30, 28, 0.58001868335000339, 38),\n",
        " (32, 47, 1.5752730806464192, 47),\n",
        " (33, 29, 1.0313917777236519, 10),\n",
        " (35, 5, 1.0869778940492634, 5),\n",
        " (37, 11, 1.4112553875469991, 11),\n",
        " (38, 62, 2.5522069333368158, 43),\n",
        " (40, 25, 3.6064679442091565, 25),\n",
        " (41, 10, 1.8232094176846554, 24),\n",
        " (42, 7, 1.4388907257119226, 8),\n",
        " (44, 61, 2.023312464872288, 19),\n",
        " (45, 19, 0.054912656313266028, 13),\n",
        " (47, 0, 1.0440579464464981, 0),\n",
        " (50, 44, 0.14714982505544894, 7),\n",
        " (51, 22, 0.11744066262531802, 63),\n",
        " (54, 7, 2.946608809417449, 30),\n",
        " (60, 44, 1.0331094718987837, 44),\n",
        " (63, 40, 0.025970113347399616, 40)]"
       ]
      }
     ],
     "prompt_number": 5
    },
    {
     "cell_type": "code",
     "collapsed": false,
     "input": [
      "print true_match"
     ],
     "language": "python",
     "metadata": {},
     "outputs": [
      {
       "output_type": "stream",
       "stream": "stdout",
       "text": [
        "[(1, 46), (2, 18), (5, 1), (8, 33), (10, 21), (11, 37), (13, 41), (14, 56), (15, 28), (16, 62), (17, 35), (18, 54), (19, 2), (21, 16), (22, 22), (23, 34), (25, 59), (27, 51), (28, 29), (29, 15), (30, 38), (32, 47), (33, 10), (35, 5), (37, 11), (38, 43), (40, 25), (41, 24), (42, 8), (43, 42), (44, 19), (45, 13), (47, 0), (48, 45), (49, 49), (50, 7), (51, 63), (54, 30), (56, 27), (59, 60), (60, 44), (63, 40)]\n"
       ]
      }
     ],
     "prompt_number": 7
    },
    {
     "cell_type": "code",
     "collapsed": false,
     "input": [],
     "language": "python",
     "metadata": {},
     "outputs": []
    }
   ],
   "metadata": {}
  }
 ]
}