{
 "metadata": {
  "name": "",
  "signature": "sha256:19dc5e012e338a2906e1f9d2641a01072f020caab745f1df147203c01ec05c38"
 },
 "nbformat": 3,
 "nbformat_minor": 0,
 "worksheets": [
  {
   "cells": [
    {
     "cell_type": "code",
     "collapsed": false,
     "input": [
      "try:\n",
      "    reload(gm)\n",
      "except:\n",
      "    import graph_matching as gm\n",
      "from time import time\n",
      "import networkx as nx\n",
      "import numpy as np\n",
      "import matplotlib.pyplot as plt\n",
      "%matplotlib inline"
     ],
     "language": "python",
     "metadata": {},
     "outputs": [],
     "prompt_number": 370
    },
    {
     "cell_type": "code",
     "collapsed": false,
     "input": [
      "len(g)\n",
      "len(largest)"
     ],
     "language": "python",
     "metadata": {},
     "outputs": [
      {
       "metadata": {},
       "output_type": "pyout",
       "prompt_number": 100,
       "text": [
        "967"
       ]
      }
     ],
     "prompt_number": 100
    },
    {
     "cell_type": "code",
     "collapsed": false,
     "input": [
      "# g = nx.random_geometric_graph(500, 0.1)\n",
      "# g = max(nx.connected_component_subgraphs(g),key=len)\n",
      "# g=nx.random_lobster(200, 0.8, 0.7)\n",
      "g = nx.random_regular_graph(6, 300)\n",
      "print len(g)\n",
      "ng, tru_match = gm.permuted_graph(g)"
     ],
     "language": "python",
     "metadata": {},
     "outputs": [
      {
       "output_type": "stream",
       "stream": "stdout",
       "text": [
        "300\n"
       ]
      }
     ],
     "prompt_number": 310
    },
    {
     "cell_type": "code",
     "collapsed": false,
     "input": [
      "anchors1 = [0, 50, 60, 30]\n",
      "anchors2 = [tru_match.get_a(x) for x in anchors1]"
     ],
     "language": "python",
     "metadata": {},
     "outputs": [],
     "prompt_number": 319
    },
    {
     "cell_type": "code",
     "collapsed": false,
     "input": [
      "\n",
      "with gm.Timer() as t:\n",
      "    match_heu, f1, f2 = gm.match_graphs(g,ng, anchors1, anchors2)\n",
      "score = gm.score(match_heu, f1, f2)\n",
      "hm = gm.hits_misses(match_heu, tru_match)\n",
      "print score, hm, t.interval\n",
      "\n",
      "\n",
      "with gm.Timer() as t:\n",
      "    match_hun, f1, f2 = gm.match_graphs(g,ng, anchors1, anchors2, True)\n",
      "score2 = gm.score(match_hun, f1, f2)\n",
      "hm2 = gm.hits_misses(match_hun, tru_match)\n",
      "print score2, hm2, t.interval\n",
      "\n",
      "\n",
      "with gm.Timer() as t:\n",
      "    gm.match_graphs_x(g,ng, anchors1, anchors2)\n",
      "print t.interval"
     ],
     "language": "python",
     "metadata": {},
     "outputs": [
      {
       "output_type": "stream",
       "stream": "stdout",
       "text": [
        "0 (598, 91) 2.17454\n",
        "0"
       ]
      },
      {
       "output_type": "stream",
       "stream": "stdout",
       "text": [
        " (598, 91) 3.125984\n",
        "2.828094"
       ]
      },
      {
       "output_type": "stream",
       "stream": "stdout",
       "text": [
        "\n"
       ]
      }
     ],
     "prompt_number": 209
    },
    {
     "cell_type": "code",
     "collapsed": false,
     "input": [
      "with gm.Timer() as t:\n",
      "    cost_matrix = gm.make_cost_matrix(g, ng, anchors1, anchors2, use_dist=False, \n",
      "                                      use_pgrs=False, use_pgr=False, use_comm=False,\n",
      "                                      use_comm_centr=True)\n",
      "print \"making cost matrix took %s\" % t.interval"
     ],
     "language": "python",
     "metadata": {},
     "outputs": [
      {
       "output_type": "stream",
       "stream": "stdout",
       "text": [
        "making cost matrix took 0.349672\n"
       ]
      }
     ],
     "prompt_number": 373
    },
    {
     "cell_type": "code",
     "collapsed": false,
     "input": [
      "with gm.Timer() as t:\n",
      "    mheu = gm.match_heuristic_x(cost_matrix)\n",
      "print gm.score_x(mheu, cost_matrix), gm.hits_misses(mheu, tru_match), t.interval\n",
      "\n",
      "with gm.Timer() as t:\n",
      "    mhun = gm.match_heuristic_x(cost_matrix)\n",
      "print gm.score_x(mhun, cost_matrix), gm.hits_misses(mhun, tru_match), t.interval\n"
     ],
     "language": "python",
     "metadata": {},
     "outputs": [
      {
       "output_type": "stream",
       "stream": "stdout",
       "text": [
        "7.17011453973e-26 (300, 0) 0.040567\n",
        "7.17011453973e-26 (300, 0) 0.0353580000001\n"
       ]
      }
     ],
     "prompt_number": 374
    },
    {
     "cell_type": "code",
     "collapsed": false,
     "input": [
      "with gm.Timer() as t:\n",
      "    nx.all_pairs_shortest_path_length(g)\n",
      "print t.interval"
     ],
     "language": "python",
     "metadata": {},
     "outputs": [
      {
       "output_type": "stream",
       "stream": "stdout",
       "text": [
        "0.12308\n"
       ]
      }
     ],
     "prompt_number": 358
    },
    {
     "cell_type": "code",
     "collapsed": false,
     "input": [
      "gm.features_matrix(ng, anchors2, use_dist=False)"
     ],
     "language": "python",
     "metadata": {},
     "outputs": [
      {
       "metadata": {},
       "output_type": "pyout",
       "prompt_number": 293,
       "text": [
        "[array([ 0.86377306,  0.66477547,  0.6525819 ,  1.07224267,  1.        ]),\n",
        " array([ 0.4678125 ,  1.30470922,  2.57704523,  1.15592874,  1.        ]),\n",
        " array([ 1.29721281,  0.5184788 ,  0.50380142,  0.66477547,  1.        ]),\n",
        " array([ 0.59486839,  2.54243357,  1.30470922,  0.76520968,  1.        ]),\n",
        " array([ 0.5662121 ,  0.76520968,  1.15592874,  2.45076574,  1.        ]),\n",
        " array([ 0.49002244,  1.29721281,  1.34069814,  0.86377306,  1.        ]),\n",
        " array([ 1.34069814,  0.50380142,  0.46018882,  0.6525819 ,  1.        ]),\n",
        " array([ 2.57088993,  0.59486839,  0.4678125 ,  0.5662121 ,  1.        ]),\n",
        " array([ 0.66681008,  0.73125537,  0.85012135,  1.12747238,  1.        ]),\n",
        " array([ 1.14170056,  1.07725527,  0.68711269,  0.68103826,  1.        ])]"
       ]
      }
     ],
     "prompt_number": 293
    },
    {
     "cell_type": "code",
     "collapsed": false,
     "input": [
      "def inexact_match(matches, domain_expert):\n",
      "    na, nb = cost_matrix.shape\n",
      "    if len(matches)>0:\n",
      "        a, b = matches[-1]\n",
      "        "
     ],
     "language": "python",
     "metadata": {},
     "outputs": [
      {
       "metadata": {},
       "output_type": "pyout",
       "prompt_number": 177,
       "text": [
        "(2, 3)"
       ]
      }
     ],
     "prompt_number": 177
    },
    {
     "cell_type": "code",
     "collapsed": false,
     "input": [
      "ggg = nx.random_lobster(20, 0.5, 0.3)"
     ],
     "language": "python",
     "metadata": {},
     "outputs": [],
     "prompt_number": 348
    },
    {
     "cell_type": "code",
     "collapsed": false,
     "input": [
      "cbc = nx.communicability(ggg)"
     ],
     "language": "python",
     "metadata": {},
     "outputs": [],
     "prompt_number": 349
    },
    {
     "cell_type": "code",
     "collapsed": false,
     "input": [
      "cbc[6][6]"
     ],
     "language": "python",
     "metadata": {},
     "outputs": [
      {
       "metadata": {},
       "output_type": "pyout",
       "prompt_number": 351,
       "text": [
        "3.0259476982359823"
       ]
      }
     ],
     "prompt_number": 351
    },
    {
     "cell_type": "code",
     "collapsed": false,
     "input": [
      "nx.communicability_centrality(ggg)[6]"
     ],
     "language": "python",
     "metadata": {},
     "outputs": [
      {
       "metadata": {},
       "output_type": "pyout",
       "prompt_number": 352,
       "text": [
        "3.0259476982359814"
       ]
      }
     ],
     "prompt_number": 352
    },
    {
     "cell_type": "code",
     "collapsed": false,
     "input": [
      "g.nodes()"
     ],
     "language": "python",
     "metadata": {},
     "outputs": [
      {
       "metadata": {},
       "output_type": "pyout",
       "prompt_number": 271,
       "text": [
        "[0, 1, 2, 3, 4, 5, 6]"
       ]
      }
     ],
     "prompt_number": 271
    },
    {
     "cell_type": "code",
     "collapsed": false,
     "input": [
      "np.array([1,2,3]).append(4)"
     ],
     "language": "python",
     "metadata": {},
     "outputs": [
      {
       "ename": "AttributeError",
       "evalue": "'numpy.ndarray' object has no attribute 'append'",
       "output_type": "pyerr",
       "traceback": [
        "\u001b[0;31m---------------------------------------------------------------------------\u001b[0m\n\u001b[0;31mAttributeError\u001b[0m                            Traceback (most recent call last)",
        "\u001b[0;32m<ipython-input-265-aa4049215318>\u001b[0m in \u001b[0;36m<module>\u001b[0;34m()\u001b[0m\n\u001b[0;32m----> 1\u001b[0;31m \u001b[0mnp\u001b[0m\u001b[0;34m.\u001b[0m\u001b[0marray\u001b[0m\u001b[0;34m(\u001b[0m\u001b[0;34m[\u001b[0m\u001b[0;36m1\u001b[0m\u001b[0;34m,\u001b[0m\u001b[0;36m2\u001b[0m\u001b[0;34m,\u001b[0m\u001b[0;36m3\u001b[0m\u001b[0;34m]\u001b[0m\u001b[0;34m)\u001b[0m\u001b[0;34m.\u001b[0m\u001b[0mappend\u001b[0m\u001b[0;34m(\u001b[0m\u001b[0;36m4\u001b[0m\u001b[0;34m)\u001b[0m\u001b[0;34m\u001b[0m\u001b[0m\n\u001b[0m",
        "\u001b[0;31mAttributeError\u001b[0m: 'numpy.ndarray' object has no attribute 'append'"
       ]
      }
     ],
     "prompt_number": 265
    },
    {
     "cell_type": "code",
     "collapsed": false,
     "input": [
      "nx.communicability_betweenness_centrality?"
     ],
     "language": "python",
     "metadata": {},
     "outputs": [],
     "prompt_number": 341
    },
    {
     "cell_type": "code",
     "collapsed": false,
     "input": [
      "with gm.Timer() as t:\n",
      "    nx.communicability_centrality(g)\n",
      "print t.interval\n",
      "\n",
      "with gm.Timer() as t:\n",
      "    nx.communicability_centrality_exp(g)\n",
      "print t.interval"
     ],
     "language": "python",
     "metadata": {},
     "outputs": [
      {
       "output_type": "stream",
       "stream": "stdout",
       "text": [
        "0.0286940000001\n",
        "0.05209\n"
       ]
      }
     ],
     "prompt_number": 345
    },
    {
     "cell_type": "code",
     "collapsed": false,
     "input": [],
     "language": "python",
     "metadata": {},
     "outputs": []
    }
   ],
   "metadata": {}
  }
 ]
}