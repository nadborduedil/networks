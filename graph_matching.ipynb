{
 "metadata": {
  "name": "",
  "signature": "sha256:27cf1d78755946bb08b58fbcdf2dea542d0055e723c03811afb470a62c6e672e"
 },
 "nbformat": 3,
 "nbformat_minor": 0,
 "worksheets": [
  {
   "cells": [
    {
     "cell_type": "code",
     "collapsed": false,
     "input": [
      "import utils\n",
      "reload(utils)\n",
      "import graph_matching as gm\n",
      "reload(gm)\n",
      "import testing\n",
      "reload(testing)\n",
      "import network_matching as nm\n",
      "reload(nm)\n",
      "\n"
     ],
     "language": "python",
     "metadata": {},
     "outputs": [
      {
       "metadata": {},
       "output_type": "pyout",
       "prompt_number": 181,
       "text": [
        "<module 'network_matching' from 'network_matching.py'>"
       ]
      }
     ],
     "prompt_number": 181
    },
    {
     "cell_type": "code",
     "collapsed": false,
     "input": [
      "with utils.Timer():\n",
      "    cases = [testing.kronecker_regular(random_seed=seed) for seed in range(200)]\n",
      "cases = filter(testing.validate_test_case, cases)\n",
      "print len(cases)"
     ],
     "language": "python",
     "metadata": {},
     "outputs": [
      {
       "output_type": "stream",
       "stream": "stdout",
       "text": [
        "start\n",
        "took 1.9137s"
       ]
      },
      {
       "output_type": "stream",
       "stream": "stdout",
       "text": [
        "\n",
        "196\n"
       ]
      }
     ],
     "prompt_number": 7
    },
    {
     "cell_type": "code",
     "collapsed": false,
     "input": [
      "pgrs_matcher = nm.BasicMatcher(use_dist=False, use_pgrs=True, use_pgr=False)\n",
      "dist_matcher = nm.BasicMatcher(use_dist=True, use_pgrs=False, use_pgr=False)\n",
      "both_matcher = nm.BasicMatcher(use_dist=True, use_pgrs=True, use_pgr=False)\n",
      "with_pgr  = nm.BasicMatcher(use_dist=True, use_pgrs=True, use_pgr=True)\n",
      "with utils.Timer():\n",
      "    print \"pgrs correct fraction = %.2f,  incorrect fraction = %.2f\" % testing.test_all(pgrs_matcher, cases)\n",
      "with utils.Timer():\n",
      "    print \"dist correct fraction = %.2f,  incorrect fraction = %.2f\" % testing.test_all(dist_matcher, cases)\n",
      "with utils.Timer():\n",
      "    print \"both correct fraction = %.2f,  incorrect fraction = %.2f\" % testing.test_all(both_matcher, cases)\n",
      "with utils.Timer():\n",
      "    print \"all 3 correct fraction = %.2f,  incorrect fraction = %.2f\" % testing.test_all(with_pgr, cases)"
     ],
     "language": "python",
     "metadata": {},
     "outputs": [
      {
       "output_type": "stream",
       "stream": "stdout",
       "text": [
        "start\n",
        "pgrs correct fraction = 0.55,  incorrect fraction = 0.45"
       ]
      },
      {
       "output_type": "stream",
       "stream": "stdout",
       "text": [
        "\n",
        "took 3.5876s\n",
        "start\n",
        "dist correct fraction = 0.58,  incorrect fraction = 0.42"
       ]
      },
      {
       "output_type": "stream",
       "stream": "stdout",
       "text": [
        "\n",
        "took 1.4589s\n",
        "start\n",
        "both correct fraction = 0.62,  incorrect fraction = 0.38"
       ]
      },
      {
       "output_type": "stream",
       "stream": "stdout",
       "text": [
        "\n",
        "took 0.4435s\n",
        "start\n",
        "all 3 correct fraction = 0.62,  incorrect fraction = 0.38"
       ]
      },
      {
       "output_type": "stream",
       "stream": "stdout",
       "text": [
        "\n",
        "took 1.0890s\n"
       ]
      }
     ],
     "prompt_number": 55
    },
    {
     "cell_type": "code",
     "collapsed": false,
     "input": [
      "pgrs_matcher1 = nm.BasicMatcher2(gm.AnchoredPageranksExtractor())\n",
      "dist_matcher1 = nm.BasicMatcher2(gm.DistExtractor())\n",
      "both_matcher1 = nm.BasicMatcher2(gm.DistExtractor(), gm.AnchoredPageranksExtractor())\n",
      "with utils.Timer():\n",
      "    print \"pgrs correct fraction = %.2f,  incorrect fraction = %.2f\" % testing.test_all(pgrs_matcher1, cases)\n",
      "with utils.Timer():\n",
      "    print \"dist correct fraction = %.2f,  incorrect fraction = %.2f\" % testing.test_all(dist_matcher1, cases)\n",
      "with utils.Timer():\n",
      "    print \"both correct fraction = %.2f,  incorrect fraction = %.2f\" % testing.test_all(both_matcher1, cases)"
     ],
     "language": "python",
     "metadata": {},
     "outputs": [
      {
       "output_type": "stream",
       "stream": "stdout",
       "text": [
        "start\n",
        "pgrs correct fraction = 0.20,  incorrect fraction = 0.80"
       ]
      },
      {
       "output_type": "stream",
       "stream": "stdout",
       "text": [
        "\n",
        "took 3.6948s\n",
        "start\n",
        "dist correct fraction = 0.21,  incorrect fraction = 0.79"
       ]
      },
      {
       "output_type": "stream",
       "stream": "stdout",
       "text": [
        "\n",
        "took 1.5255s\n",
        "start\n",
        "both correct fraction = 0.22,  incorrect fraction = 0.78"
       ]
      },
      {
       "output_type": "stream",
       "stream": "stdout",
       "text": [
        "\n",
        "took 5.4415s\n"
       ]
      }
     ],
     "prompt_number": 182
    },
    {
     "cell_type": "code",
     "collapsed": false,
     "input": [
      "with utils.Timer():\n",
      "    print \"pgrs correct fraction = %.2f,  incorrect fraction = %.2f\" % testing.test_all(matcher, cases)"
     ],
     "language": "python",
     "metadata": {},
     "outputs": [
      {
       "output_type": "stream",
       "stream": "stdout",
       "text": [
        "start\n",
        "pgrs correct fraction = 0.47,  incorrect fraction = 0.53"
       ]
      },
      {
       "output_type": "stream",
       "stream": "stdout",
       "text": [
        "\n",
        "took 5.4917s\n"
       ]
      }
     ],
     "prompt_number": 59
    },
    {
     "cell_type": "code",
     "collapsed": false,
     "input": [
      "traktors = pgrs_matcher1.extractors\n",
      "print traktors"
     ],
     "language": "python",
     "metadata": {},
     "outputs": [
      {
       "output_type": "stream",
       "stream": "stdout",
       "text": [
        "(<graph_matching.AnchoredPageranksExtractor instance at 0x0000000014228188>,)\n"
       ]
      }
     ],
     "prompt_number": 104
    },
    {
     "cell_type": "code",
     "collapsed": false,
     "input": [
      "case = testing.kronecker_regular(3,10,1 , anchors = 3, candidates = 2)"
     ],
     "language": "python",
     "metadata": {},
     "outputs": [],
     "prompt_number": 148
    },
    {
     "cell_type": "code",
     "collapsed": false,
     "input": [
      "matcher.generate_matches(case.g_a, case.g_b, case.anchors, case.cands)"
     ],
     "language": "python",
     "metadata": {},
     "outputs": [
      {
       "metadata": {},
       "output_type": "pyout",
       "prompt_number": 149,
       "text": [
        "[(1, 7, 3.8770339076749538),\n",
        " (3, 5, 3.0173199423199604),\n",
        " (6, 1, 1.0589682783362524)]"
       ]
      }
     ],
     "prompt_number": 149
    },
    {
     "cell_type": "code",
     "collapsed": false,
     "input": [
      "a = case.g_a\n",
      "b = case.g_b\n",
      "anchors = case.anchors\n",
      "candidate_dict = case.cands"
     ],
     "language": "python",
     "metadata": {},
     "outputs": [],
     "prompt_number": 150
    },
    {
     "cell_type": "code",
     "collapsed": false,
     "input": [
      "a_anchors = tuple([x for x, _ in anchors])\n",
      "b_anchors = tuple([y for _, y in anchors])"
     ],
     "language": "python",
     "metadata": {},
     "outputs": [],
     "prompt_number": 151
    },
    {
     "cell_type": "code",
     "collapsed": false,
     "input": [
      "a_feats = [e.extract(a, a_anchors) for e in traktors]"
     ],
     "language": "python",
     "metadata": {},
     "outputs": [],
     "prompt_number": 152
    },
    {
     "cell_type": "code",
     "collapsed": false,
     "input": [
      "a_feats[0]"
     ],
     "language": "python",
     "metadata": {},
     "outputs": [
      {
       "metadata": {},
       "output_type": "pyout",
       "prompt_number": 153,
       "text": [
        "{0: array([ 0.24730395,  0.15687809,  0.13334637]),\n",
        " 1: array([ 0.06338287,  0.17589295,  0.14950901]),\n",
        " 2: array([ 0.30492628,  0.07730225,  0.06570691]),\n",
        " 3: array([ 0.19966312,  0.07730225,  0.06570691]),\n",
        " 5: array([ 0.11595337,  0.32178063,  0.27351353]),\n",
        " 6: array([ 0.01795848,  0.04983634,  0.04236088]),\n",
        " 7: array([ 0.03285345,  0.09117118,  0.2274955 ]),\n",
        " 8: array([ 0.01795848,  0.04983634,  0.04236088])}"
       ]
      }
     ],
     "prompt_number": 153
    },
    {
     "cell_type": "code",
     "collapsed": false,
     "input": [
      "orig = gm.pageranks_to_anchors(a, a_anchors)"
     ],
     "language": "python",
     "metadata": {},
     "outputs": [],
     "prompt_number": 160
    },
    {
     "cell_type": "code",
     "collapsed": false,
     "input": [
      "a_anchors"
     ],
     "language": "python",
     "metadata": {},
     "outputs": [
      {
       "metadata": {},
       "output_type": "pyout",
       "prompt_number": 155,
       "text": [
        "(7, 5, 2)"
       ]
      }
     ],
     "prompt_number": 155
    },
    {
     "cell_type": "code",
     "collapsed": false,
     "input": [
      "orig[3]"
     ],
     "language": "python",
     "metadata": {},
     "outputs": [
      {
       "ename": "IndexError",
       "evalue": "list index out of range",
       "output_type": "pyerr",
       "traceback": [
        "\u001b[1;31m---------------------------------------------------------------------------\u001b[0m\n\u001b[1;31mIndexError\u001b[0m                                Traceback (most recent call last)",
        "\u001b[1;32m<ipython-input-156-9dadd12267e9>\u001b[0m in \u001b[0;36m<module>\u001b[1;34m()\u001b[0m\n\u001b[1;32m----> 1\u001b[1;33m \u001b[0morig\u001b[0m\u001b[1;33m[\u001b[0m\u001b[1;36m3\u001b[0m\u001b[1;33m]\u001b[0m\u001b[1;33m\u001b[0m\u001b[0m\n\u001b[0m",
        "\u001b[1;31mIndexError\u001b[0m: list index out of range"
       ]
      }
     ],
     "prompt_number": 156
    },
    {
     "cell_type": "code",
     "collapsed": false,
     "input": [
      "for n in a.nodes():\n",
      "    for anc in range(len(a_anchors)):\n",
      "        if n in orig[anc]:\n",
      "            print orig[anc][n], a_feats[0][n][anc]"
     ],
     "language": "python",
     "metadata": {},
     "outputs": [
      {
       "output_type": "stream",
       "stream": "stdout",
       "text": [
        "0.13334637343 0.247303948836\n",
        "0.156878086389 0.156878086389\n",
        "0.247303948836 0.13334637343\n",
        "0.1495090053 0.0633828700773\n",
        "0.175892947412 0.175892947412\n",
        "0.0633828700773 0.1495090053\n",
        "0.0657069086468 0.304926278374\n",
        "0.0773022454669 0.0773022454669\n",
        "0.304926278374 0.0657069086468\n",
        "0.0657069086468 0.199663120479\n",
        "0.0773022454669 0.0773022454669\n",
        "0.199663120479 0.0657069086468\n",
        "0.273513533225 0.1159533682\n",
        "0.321780627324 0.321780627324\n",
        "0.1159533682 0.273513533225\n",
        "0.042360884835 0.0179584798552\n",
        "0.0498363351 0.0498363351\n",
        "0.0179584798552 0.042360884835\n",
        "0.227495501081 0.0328534543234\n",
        "0.0911711777418 0.0911711777418\n",
        "0.0328534543234 0.227495501081\n",
        "0.042360884835 0.0179584798552\n",
        "0.0498363351 0.0498363351\n",
        "0.0179584798552 0.042360884835\n"
       ]
      }
     ],
     "prompt_number": 178
    },
    {
     "cell_type": "code",
     "collapsed": false,
     "input": [
      "orig[3][17]"
     ],
     "language": "python",
     "metadata": {},
     "outputs": [
      {
       "ename": "IndexError",
       "evalue": "list index out of range",
       "output_type": "pyerr",
       "traceback": [
        "\u001b[1;31m---------------------------------------------------------------------------\u001b[0m\n\u001b[1;31mIndexError\u001b[0m                                Traceback (most recent call last)",
        "\u001b[1;32m<ipython-input-163-72f5c29b7c26>\u001b[0m in \u001b[0;36m<module>\u001b[1;34m()\u001b[0m\n\u001b[1;32m----> 1\u001b[1;33m \u001b[0morig\u001b[0m\u001b[1;33m[\u001b[0m\u001b[1;36m3\u001b[0m\u001b[1;33m]\u001b[0m\u001b[1;33m[\u001b[0m\u001b[1;36m17\u001b[0m\u001b[1;33m]\u001b[0m\u001b[1;33m\u001b[0m\u001b[0m\n\u001b[0m",
        "\u001b[1;31mIndexError\u001b[0m: list index out of range"
       ]
      }
     ],
     "prompt_number": 163
    },
    {
     "cell_type": "code",
     "collapsed": false,
     "input": [
      "sum(orig[2].values())"
     ],
     "language": "python",
     "metadata": {},
     "outputs": [
      {
       "metadata": {},
       "output_type": "pyout",
       "prompt_number": 165,
       "text": [
        "0.9999999999999999"
       ]
      }
     ],
     "prompt_number": 165
    },
    {
     "cell_type": "code",
     "collapsed": false,
     "input": [
      "sum(a_feats[0][n][2] for n in orig[2].keys())"
     ],
     "language": "python",
     "metadata": {},
     "outputs": [
      {
       "metadata": {},
       "output_type": "pyout",
       "prompt_number": 167,
       "text": [
        "1.0000000000000002"
       ]
      }
     ],
     "prompt_number": 167
    },
    {
     "cell_type": "code",
     "collapsed": false,
     "input": [
      "len(orig[2])"
     ],
     "language": "python",
     "metadata": {},
     "outputs": [
      {
       "metadata": {},
       "output_type": "pyout",
       "prompt_number": 169,
       "text": [
        "8"
       ]
      }
     ],
     "prompt_number": 169
    },
    {
     "cell_type": "code",
     "collapsed": false,
     "input": [
      "import networkx as nx\n",
      "import numpy as np\n",
      "def extract(graph, anchors):\n",
      "    n = len(graph)\n",
      "    pgranks = dict((node, {}) for node in graph.nodes())\n",
      "    for anchor in anchors:\n",
      "        weights = dict((i, 0) for i in graph.nodes())\n",
      "        weights[anchor] = 1\n",
      "        pgr = nx.pagerank_numpy(graph, personalization=weights)\n",
      "        for node, v in pgr.items():\n",
      "            pgranks[node][anchor] = v\n",
      "\n",
      "\n",
      "    for node, pgr in pgranks.items():\n",
      "        pgranks[node] = d = np.array(pgr.values())\n",
      "\n",
      "    return pgranks"
     ],
     "language": "python",
     "metadata": {},
     "outputs": [],
     "prompt_number": 170
    },
    {
     "cell_type": "code",
     "collapsed": false,
     "input": [
      "extract(a, a_anchors)"
     ],
     "language": "python",
     "metadata": {},
     "outputs": [
      {
       "metadata": {},
       "output_type": "pyout",
       "prompt_number": 171,
       "text": [
        "{0: array([ 0.24730395,  0.15687809,  0.13334637]),\n",
        " 1: array([ 0.06338287,  0.17589295,  0.14950901]),\n",
        " 2: array([ 0.30492628,  0.07730225,  0.06570691]),\n",
        " 3: array([ 0.19966312,  0.07730225,  0.06570691]),\n",
        " 5: array([ 0.11595337,  0.32178063,  0.27351353]),\n",
        " 6: array([ 0.01795848,  0.04983634,  0.04236088]),\n",
        " 7: array([ 0.03285345,  0.09117118,  0.2274955 ]),\n",
        " 8: array([ 0.01795848,  0.04983634,  0.04236088])}"
       ]
      }
     ],
     "prompt_number": 171
    },
    {
     "cell_type": "code",
     "collapsed": false,
     "input": [
      "a_feats[0]"
     ],
     "language": "python",
     "metadata": {},
     "outputs": [
      {
       "metadata": {},
       "output_type": "pyout",
       "prompt_number": 172,
       "text": [
        "{0: array([ 0.24730395,  0.15687809,  0.13334637]),\n",
        " 1: array([ 0.06338287,  0.17589295,  0.14950901]),\n",
        " 2: array([ 0.30492628,  0.07730225,  0.06570691]),\n",
        " 3: array([ 0.19966312,  0.07730225,  0.06570691]),\n",
        " 5: array([ 0.11595337,  0.32178063,  0.27351353]),\n",
        " 6: array([ 0.01795848,  0.04983634,  0.04236088]),\n",
        " 7: array([ 0.03285345,  0.09117118,  0.2274955 ]),\n",
        " 8: array([ 0.01795848,  0.04983634,  0.04236088])}"
       ]
      }
     ],
     "prompt_number": 172
    },
    {
     "cell_type": "code",
     "collapsed": false,
     "input": [
      "print a_anchors\n",
      "gm.anchored_pagerank(a, 7)[0]"
     ],
     "language": "python",
     "metadata": {},
     "outputs": [
      {
       "output_type": "stream",
       "stream": "stdout",
       "text": [
        "(7, 5, 2)\n"
       ]
      },
      {
       "metadata": {},
       "output_type": "pyout",
       "prompt_number": 176,
       "text": [
        "0.13334637343033462"
       ]
      }
     ],
     "prompt_number": 176
    },
    {
     "cell_type": "code",
     "collapsed": false,
     "input": [
      "orig"
     ],
     "language": "python",
     "metadata": {},
     "outputs": [
      {
       "metadata": {},
       "output_type": "pyout",
       "prompt_number": 177,
       "text": [
        "[{0: 0.13334637343033462,\n",
        "  1: 0.14950900530005304,\n",
        "  2: 0.06570690864683158,\n",
        "  3: 0.06570690864683164,\n",
        "  5: 0.2735135332253913,\n",
        "  6: 0.042360884835015045,\n",
        "  7: 0.22749550108052785,\n",
        "  8: 0.042360884835015045},\n",
        " {0: 0.15687808638862863,\n",
        "  1: 0.17589294741182748,\n",
        "  2: 0.07730224546686046,\n",
        "  3: 0.07730224546686047,\n",
        "  5: 0.32178062732399015,\n",
        "  6: 0.04983633510001784,\n",
        "  7: 0.09117117774179709,\n",
        "  8: 0.04983633510001784},\n",
        " {0: 0.2473039488358028,\n",
        "  1: 0.06338287007732933,\n",
        "  2: 0.30492627837370584,\n",
        "  3: 0.199663120478969,\n",
        "  5: 0.11595336820029063,\n",
        "  6: 0.01795847985524329,\n",
        "  7: 0.0328534543234157,\n",
        "  8: 0.01795847985524329}]"
       ]
      }
     ],
     "prompt_number": 177
    },
    {
     "cell_type": "code",
     "collapsed": false,
     "input": [],
     "language": "python",
     "metadata": {},
     "outputs": []
    }
   ],
   "metadata": {}
  }
 ]
}