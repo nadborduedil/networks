{
 "metadata": {
  "name": "",
  "signature": "sha256:6b7b3904003b1346ca11fc5964966f8beeeb837436bb58fd24f73fa1519a3871"
 },
 "nbformat": 3,
 "nbformat_minor": 0,
 "worksheets": [
  {
   "cells": [
    {
     "cell_type": "code",
     "collapsed": false,
     "input": [
      "import utils\n",
      "reload(utils)\n",
      "import graph_matching as gm\n",
      "reload(gm)\n",
      "import testing\n",
      "reload(testing)\n",
      "import network_matching as nm\n",
      "reload(nm)\n",
      "import networkx as nx\n",
      "%matplotlib inline\n"
     ],
     "language": "python",
     "metadata": {},
     "outputs": [],
     "prompt_number": 112
    },
    {
     "cell_type": "code",
     "collapsed": false,
     "input": [
      "with utils.Timer():\n",
      "    cases = [testing.star_test_case(exponent=5, anchors=10, random_seed=seed, \n",
      "                                    a_nodes_left=0.9, a_edges_left=0.9,\n",
      "                                    b_nodes_left=0.9, b_edges_left=0.9) for seed in range(10)]\n",
      "cases = filter(testing.validate_test_case, cases)\n",
      "print len(cases)"
     ],
     "language": "python",
     "metadata": {},
     "outputs": []
    },
    {
     "cell_type": "code",
     "collapsed": false,
     "input": [
      "pgrs_matcher = nm.BasicMatcher(use_dist=False, use_pgrs=True, use_pgr=False)\n",
      "dist_matcher = nm.BasicMatcher(use_dist=True, use_pgrs=False, use_pgr=False)\n",
      "both_matcher = nm.BasicMatcher(use_dist=True, use_pgrs=True, use_pgr=False)\n",
      "with_pgr  = nm.BasicMatcher(use_dist=True, use_pgrs=True, use_pgr=True)\n",
      "with utils.Timer():\n",
      "    print \"pgrs correct fraction = %.2f,  incorrect fraction = %.2f\" % testing.test_all(pgrs_matcher, cases)\n",
      "with utils.Timer():\n",
      "    print \"dist correct fraction = %.2f,  incorrect fraction = %.2f\" % testing.test_all(dist_matcher, cases)\n",
      "with utils.Timer():\n",
      "    print \"both correct fraction = %.2f,  incorrect fraction = %.2f\" % testing.test_all(both_matcher, cases)\n",
      "with utils.Timer():\n",
      "    print \"all 3 correct fraction = %.2f,  incorrect fraction = %.2f\" % testing.test_all(with_pgr, cases)"
     ],
     "language": "python",
     "metadata": {},
     "outputs": [
      {
       "output_type": "stream",
       "stream": "stdout",
       "text": [
        "start\n",
        "pgrs correct fraction = 0.72,  incorrect fraction = 0.28"
       ]
      },
      {
       "output_type": "stream",
       "stream": "stdout",
       "text": [
        "\n",
        "took 108.1985s\n",
        "start\n",
        "dist correct fraction = 0.28,  incorrect fraction = 0.72"
       ]
      },
      {
       "output_type": "stream",
       "stream": "stdout",
       "text": [
        "\n",
        "took 2.2265s\n",
        "start\n",
        "both correct fraction = 0.61,  incorrect fraction = 0.39"
       ]
      },
      {
       "output_type": "stream",
       "stream": "stdout",
       "text": [
        "\n",
        "took 0.5006s\n",
        "start\n",
        "all 3 correct fraction = 0.62,  incorrect fraction = 0.38"
       ]
      },
      {
       "output_type": "stream",
       "stream": "stdout",
       "text": [
        "\n",
        "took 22.0274s\n"
       ]
      }
     ],
     "prompt_number": 15
    },
    {
     "cell_type": "code",
     "collapsed": false,
     "input": [
      "# somethingN := extractor that normalizes features so that sum(v**2 for v in featurevec) is 1\n",
      "pgr = gm.AnchoredPageranksExtractor(False)\n",
      "pgrN = gm.AnchoredPageranksExtractor(True)\n",
      "dist = gm.DistExtractor(False)\n",
      "distN = gm.DistExtractor(True)\n",
      "comm = gm.CommunicabilityExtractor(False)\n",
      "commN = gm.CommunicabilityExtractor(True)\n",
      "\n",
      "m_pgr = nm.BasicMatcher2([pgr])\n",
      "m_pgrN = nm.BasicMatcher2([pgrN])\n",
      "m_dist = nm.BasicMatcher2([dist])\n",
      "m_distN = nm.BasicMatcher2([distN])\n",
      "m_dist_pgr = nm.BasicMatcher2([dist, pgr])\n",
      "m_distN_pgrN = nm.BasicMatcher2([distN, pgrN])\n",
      "m_dist_pgrN = nm.BasicMatcher2([dist, pgrN])\n",
      "m_comm = nm.BasicMatcher2([comm])\n",
      "m_commN = nm.BasicMatcher2([commN])\n",
      "auth = gm.GenericExtractor(False)\n",
      "m_auth = nm.BasicMatcher2([auth])\n",
      "with utils.Timer():\n",
      "    print \"m_auth correct = %.2f,  incorrect = %.2f\" % testing.test_all(m_auth, cases)\n",
      "    \n",
      "    \n",
      "# with utils.Timer():\n",
      "#     print \"m_pgr correct = %.2f,  incorrect = %.2f\" % testing.test_all(m_pgr, cases)\n",
      "    \n",
      "# with utils.Timer():\n",
      "#     print \"m_pgrN correct = %.2f,  incorrect = %.2f\" % testing.test_all(m_pgrN, cases)\n",
      "\n",
      "# with utils.Timer():\n",
      "#     print \"m_comm correct = %.2f,  incorrect = %.2f\" % testing.test_all(m_comm, cases)\n",
      "    \n",
      "# with utils.Timer():\n",
      "#     print \"m_commN correct = %.2f,  incorrect = %.2f\" % testing.test_all(m_commN, cases)\n",
      "    \n",
      "    \n",
      "    \n",
      "# these are losers, don't bother evaluating them\n",
      "# with utils.Timer():\n",
      "#     print \"dist correct = %.2f,  incorrect = %.2f\" % testing.test_all(dist_matcher, cases)\n",
      "# with utils.Timer():\n",
      "#     print \"dist_norm correct = %.2f,  incorrect = %.2f\" % testing.test_all(dist_matcher_norm, cases)\n",
      "# with utils.Timer():\n",
      "#     print \"both correct = %.2f,  incorrect = %.2f\" % testing.test_all(both_matcher, cases)\n",
      "# with utils.Timer():\n",
      "#     print \"both_norm correct = %.2f,  incorrect = %.2f\" % testing.test_all(both_matcher_norm, cases)\n",
      "# with utils.Timer():\n",
      "#     print \"dist_pgrsnorm correct = %.2f,  incorrect = %.2f\" % testing.test_all(dist_pgrsnorm, cases)\n",
      "\n",
      "# with utils.Timer():\n",
      "#     print \"dist_dist correct = %.2f,  incorrect = %.2f\" % testing.test_all(dist_dist, cases)\n",
      "\n",
      "\n",
      "\n"
     ],
     "language": "python",
     "metadata": {},
     "outputs": [
      {
       "output_type": "stream",
       "stream": "stdout",
       "text": [
        "start\n",
        "m_auth correct = 0.90,  incorrect = 0.10"
       ]
      },
      {
       "output_type": "stream",
       "stream": "stdout",
       "text": [
        "\n",
        "took 0.8862s\n",
        "start\n",
        "m_pgr correct = 0.91,  incorrect = 0.09"
       ]
      },
      {
       "output_type": "stream",
       "stream": "stdout",
       "text": [
        "\n",
        "took 100.2861s\n"
       ]
      }
     ],
     "prompt_number": 114
    },
    {
     "cell_type": "code",
     "collapsed": false,
     "input": [
      "auth = gm.GenericExtractor(False)\n",
      "m_auth = nm.BasicMatcher2([auth])\n",
      "with utils.Timer():\n",
      "    print \"m_auth correct = %.2f,  incorrect = %.2f\" % testing.test_all(m_auth, cases)"
     ],
     "language": "python",
     "metadata": {},
     "outputs": [
      {
       "output_type": "stream",
       "stream": "stdout",
       "text": [
        "start\n",
        "m_auth correct = 0.90,  incorrect = 0.10"
       ]
      },
      {
       "output_type": "stream",
       "stream": "stdout",
       "text": [
        "\n",
        "took 0.9007s\n"
       ]
      }
     ],
     "prompt_number": 113
    },
    {
     "cell_type": "code",
     "collapsed": false,
     "input": [
      "tiny_graph = nx.random_regular_graph(3,8)\n",
      "gm._communicability_to_anchors(tiny_graph, (0,1,2,3,4))"
     ],
     "language": "python",
     "metadata": {},
     "outputs": [
      {
       "metadata": {},
       "output_type": "pyout",
       "prompt_number": 63,
       "text": [
        "{0: array([ 0.25619722,  0.30721962,  0.30721962,  0.38921833,  0.5327348 ]),\n",
        " 1: array([ 0.30721962,  0.25171385,  0.29514449,  0.5972239 ,  0.36813542]),\n",
        " 2: array([ 0.30721962,  0.29514449,  0.25171385,  0.5972239 ,  0.45187065]),\n",
        " 3: array([ 0.38921833,  0.5972239 ,  0.5972239 ,  0.25619722,  0.5327348 ]),\n",
        " 4: array([ 0.5327348 ,  0.36813542,  0.45187065,  0.5327348 ,  0.27495929]),\n",
        " 5: array([ 0.5972239 ,  0.64882678,  0.75498555,  0.30721962,  0.36813542]),\n",
        " 6: array([ 0.5327348 ,  0.45187065,  0.36813542,  0.5327348 ,  0.35265992]),\n",
        " 7: array([ 0.5972239 ,  0.75498555,  0.64882678,  0.30721962,  0.45187065])}"
       ]
      }
     ],
     "prompt_number": 63
    },
    {
     "cell_type": "code",
     "collapsed": false,
     "input": [
      "gm._dists_to_anchors(tiny_graph, (0,1,2,3,4))"
     ],
     "language": "python",
     "metadata": {},
     "outputs": [
      {
       "metadata": {},
       "output_type": "pyout",
       "prompt_number": 61,
       "text": [
        "{0: array([0, 2, 2, 1, 1]),\n",
        " 1: array([2, 0, 2, 2, 3]),\n",
        " 2: array([2, 2, 0, 2, 1]),\n",
        " 3: array([1, 2, 2, 0, 1]),\n",
        " 4: array([1, 3, 1, 1, 0]),\n",
        " 5: array([3, 1, 1, 2, 2]),\n",
        " 6: array([2, 1, 2, 1, 2]),\n",
        " 7: array([1, 1, 1, 2, 2])}"
       ]
      }
     ],
     "prompt_number": 61
    },
    {
     "cell_type": "code",
     "collapsed": false,
     "input": [
      "nx.draw(nx.Graph([(0,1), (0,2), (0,3), (0,4)]))"
     ],
     "language": "python",
     "metadata": {},
     "outputs": [
      {
       "metadata": {},
       "output_type": "display_data",
       "png": "[encoded data removed]",
       "text": [
        "<matplotlib.figure.Figure at 0x109e08290>"
       ]
      }
     ],
     "prompt_number": 4
    },
    {
     "cell_type": "code",
     "collapsed": false,
     "input": [
      "with utils.Timer():\n",
      "    tc = testing.star_test_case(exponent=6, anchors=5, random_seed=0)\n",
      "    print len(tc.g_a)"
     ],
     "language": "python",
     "metadata": {},
     "outputs": [
      {
       "output_type": "stream",
       "stream": "stdout",
       "text": [
        "start\n",
        "12500"
       ]
      },
      {
       "output_type": "stream",
       "stream": "stdout",
       "text": [
        "\n",
        "took 169.4509s\n"
       ]
      }
     ],
     "prompt_number": 18
    },
    {
     "cell_type": "code",
     "collapsed": false,
     "input": [
      "with utils.Timer():\n",
      "    tc = testing.star_test_case(exponent=6, anchors=5, random_seed=0)\n",
      "    print len(tc.g_a)"
     ],
     "language": "python",
     "metadata": {},
     "outputs": [
      {
       "output_type": "stream",
       "stream": "stdout",
       "text": [
        "start\n",
        "12500"
       ]
      },
      {
       "output_type": "stream",
       "stream": "stdout",
       "text": [
        "\n",
        "took 95.7620s\n"
       ]
      }
     ],
     "prompt_number": 22
    },
    {
     "cell_type": "code",
     "collapsed": false,
     "input": [
      "case_15k = tc"
     ],
     "language": "python",
     "metadata": {},
     "outputs": [],
     "prompt_number": 24
    },
    {
     "cell_type": "code",
     "collapsed": false,
     "input": [
      "with utils.Timer():\n",
      "    case3k = testing.star_test_case(exponent=5, anchors=10, random_seed=0)\n",
      "    print len(tc.g_a)"
     ],
     "language": "python",
     "metadata": {},
     "outputs": [
      {
       "output_type": "stream",
       "stream": "stdout",
       "text": [
        "start\n",
        "12500"
       ]
      },
      {
       "output_type": "stream",
       "stream": "stdout",
       "text": [
        "\n",
        "took 14.2932s\n"
       ]
      }
     ],
     "prompt_number": 25
    },
    {
     "cell_type": "code",
     "collapsed": false,
     "input": [
      "with utils.Timer():\n",
      "    case3k = testing.star_test_case(exponent=5, anchors=10, random_seed=0)\n",
      "    print len(tc.g_a)"
     ],
     "language": "python",
     "metadata": {},
     "outputs": [
      {
       "output_type": "stream",
       "stream": "stdout",
       "text": [
        "start\n",
        "12500"
       ]
      },
      {
       "output_type": "stream",
       "stream": "stdout",
       "text": [
        "\n",
        "took 6.6844s\n"
       ]
      }
     ],
     "prompt_number": 26
    },
    {
     "cell_type": "code",
     "collapsed": false,
     "input": [
      "with utils.Timer():\n",
      "    gm._dists_to_anchors(case3k.g_a, [1])"
     ],
     "language": "python",
     "metadata": {},
     "outputs": [
      {
       "output_type": "stream",
       "stream": "stdout",
       "text": [
        "start\n",
        "took 0.0612s"
       ]
      },
      {
       "output_type": "stream",
       "stream": "stdout",
       "text": [
        "\n"
       ]
      }
     ],
     "prompt_number": 31
    },
    {
     "cell_type": "code",
     "collapsed": false,
     "input": [
      "with utils.Timer():\n",
      "    gm._anchored_pagerank(case3k.g_a, (1,2,3))"
     ],
     "language": "python",
     "metadata": {},
     "outputs": [
      {
       "output_type": "stream",
       "stream": "stdout",
       "text": [
        "start\n",
        "took 89.3023s"
       ]
      },
      {
       "output_type": "stream",
       "stream": "stdout",
       "text": [
        "\n"
       ]
      }
     ],
     "prompt_number": 34
    },
    {
     "cell_type": "code",
     "collapsed": false,
     "input": [
      "with utils.Timer():\n",
      "    gra = nx.random_regular_graph(7, 100)\n",
      "with utils.Timer():\n",
      "    gm._anchored_pagerank(gra, (1,2,3))\n",
      "    "
     ],
     "language": "python",
     "metadata": {},
     "outputs": [
      {
       "output_type": "stream",
       "stream": "stdout",
       "text": [
        "start\n",
        "took 0.0022s\n",
        "start\n",
        "took 0.0266s\n"
       ]
      }
     ],
     "prompt_number": 74
    },
    {
     "cell_type": "code",
     "collapsed": false,
     "input": [
      "gra = nx.random_regular_graph(13, 800)\n",
      "with utils.Timer():\n",
      "    automa = nx.authority_matrix(gra)\n",
      "#     commu = nx.communicability(gra)"
     ],
     "language": "python",
     "metadata": {},
     "outputs": [
      {
       "output_type": "stream",
       "stream": "stdout",
       "text": [
        "start\n",
        "took 0.0348s\n"
       ]
      }
     ],
     "prompt_number": 121
    },
    {
     "cell_type": "code",
     "collapsed": false,
     "input": [
      "ama = nx.authority_matrix(gra)"
     ],
     "language": "python",
     "metadata": {},
     "outputs": [],
     "prompt_number": 108
    },
    {
     "cell_type": "code",
     "collapsed": false,
     "input": [
      "automa"
     ],
     "language": "python",
     "metadata": {},
     "outputs": [
      {
       "metadata": {},
       "output_type": "pyout",
       "prompt_number": 122,
       "text": [
        "matrix([[ 13.,   0.,   0., ...,   0.,   0.,   0.],\n",
        "        [  0.,  13.,   1., ...,   0.,   0.,   0.],\n",
        "        [  0.,   1.,  13., ...,   0.,   0.,   1.],\n",
        "        ..., \n",
        "        [  0.,   0.,   0., ...,  13.,   0.,   0.],\n",
        "        [  0.,   0.,   0., ...,   0.,  13.,   0.],\n",
        "        [  0.,   0.,   1., ...,   0.,   0.,  13.]])"
       ]
      }
     ],
     "prompt_number": 122
    },
    {
     "cell_type": "code",
     "collapsed": false,
     "input": [
      "5**4"
     ],
     "language": "python",
     "metadata": {},
     "outputs": [
      {
       "metadata": {},
       "output_type": "pyout",
       "prompt_number": 123,
       "text": [
        "625"
       ]
      }
     ],
     "prompt_number": 123
    },
    {
     "cell_type": "code",
     "collapsed": false,
     "input": [],
     "language": "python",
     "metadata": {},
     "outputs": []
    }
   ],
   "metadata": {}
  }
 ]
}