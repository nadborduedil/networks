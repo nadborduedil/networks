{
 "metadata": {
  "name": "",
  "signature": "sha256:80bb2ae725aad358d278057dc47f8afbdec00dedf977a77f26d3a9bb07e6a3af"
 },
 "nbformat": 3,
 "nbformat_minor": 0,
 "worksheets": [
  {
   "cells": [
    {
     "cell_type": "code",
     "collapsed": false,
     "input": [
      "import utils\n",
      "reload(utils)\n",
      "import graph_matching as gm\n",
      "reload(gm)\n",
      "import testing\n",
      "reload(testing)\n",
      "import network_matching as nm\n",
      "reload(nm)\n",
      "import networkx as nx\n",
      "%matplotlib inline\n"
     ],
     "language": "python",
     "metadata": {},
     "outputs": [],
     "prompt_number": 3
    },
    {
     "cell_type": "code",
     "collapsed": false,
     "input": [
      "with utils.Timer():\n",
      "    cases = [testing.star_test_case(exponent=6, anchors=10, random_seed=seed, \n",
      "                                    a_nodes_left=0.8, a_edges_left=0.8,\n",
      "                                    b_nodes_left=0.8, b_edges_left=0.8) for seed in range(10)]\n",
      "cases = filter(testing.validate_test_case, cases)\n",
      "print len(cases)"
     ],
     "language": "python",
     "metadata": {},
     "outputs": [
      {
       "output_type": "stream",
       "stream": "stdout",
       "text": [
        "start\n",
        "took 2004.9738s"
       ]
      },
      {
       "output_type": "stream",
       "stream": "stdout",
       "text": [
        "\n",
        "10"
       ]
      },
      {
       "output_type": "stream",
       "stream": "stdout",
       "text": [
        "\n"
       ]
      }
     ],
     "prompt_number": 4
    },
    {
     "cell_type": "code",
     "collapsed": false,
     "input": [
      "# somethingN := extractor that normalizes features so that sum(v**2 for v in featurevec) is 1\n",
      "pgr = gm.AnchoredPageranksExtractor(False)\n",
      "pgrN = gm.AnchoredPageranksExtractor(True)\n",
      "dist = gm.DistExtractor(False)\n",
      "distN = gm.DistExtractor(True)\n",
      "comm = gm.CommunicabilityExtractor(False)\n",
      "commN = gm.CommunicabilityExtractor(True)\n",
      "goog = gm.GoogleExtractor(False)\n",
      "auth = gm.AuthorityExtractor(False)\n",
      "\n",
      "m_pgr = nm.BasicMatcher2([pgr])\n",
      "m_pgrN = nm.BasicMatcher2([pgrN])\n",
      "m_dist = nm.BasicMatcher2([dist])\n",
      "m_distN = nm.BasicMatcher2([distN])\n",
      "m_dist_pgr = nm.BasicMatcher2([dist, pgr])\n",
      "m_distN_pgrN = nm.BasicMatcher2([distN, pgrN])\n",
      "m_dist_pgrN = nm.BasicMatcher2([dist, pgrN])\n",
      "m_comm = nm.BasicMatcher2([comm])\n",
      "m_commN = nm.BasicMatcher2([commN])\n",
      "m_auth = nm.BasicMatcher2([auth])\n",
      "m_goog = nm.BasicMatcher2([goog])"
     ],
     "language": "python",
     "metadata": {},
     "outputs": [],
     "prompt_number": 6
    },
    {
     "cell_type": "code",
     "collapsed": false,
     "input": [
      "with utils.Timer():\n",
      "    print \"m_auth correct = %.2f,  incorrect = %.2f\" % testing.test_all(m_auth, cases)\n",
      "    "
     ],
     "language": "python",
     "metadata": {},
     "outputs": [
      {
       "ename": "NameError",
       "evalue": "name 'utils' is not defined",
       "output_type": "pyerr",
       "traceback": [
        "\u001b[0;31m---------------------------------------------------------------------------\u001b[0m\n\u001b[0;31mNameError\u001b[0m                                 Traceback (most recent call last)",
        "\u001b[0;32m<ipython-input-1-f0cbc19b04b5>\u001b[0m in \u001b[0;36m<module>\u001b[0;34m()\u001b[0m\n\u001b[0;32m----> 1\u001b[0;31m \u001b[0;32mwith\u001b[0m \u001b[0mutils\u001b[0m\u001b[0;34m.\u001b[0m\u001b[0mTimer\u001b[0m\u001b[0;34m(\u001b[0m\u001b[0;34m)\u001b[0m\u001b[0;34m:\u001b[0m\u001b[0;34m\u001b[0m\u001b[0m\n\u001b[0m\u001b[1;32m      2\u001b[0m     \u001b[0;32mprint\u001b[0m \u001b[0;34m\"m_auth correct = %.2f,  incorrect = %.2f\"\u001b[0m \u001b[0;34m%\u001b[0m \u001b[0mtesting\u001b[0m\u001b[0;34m.\u001b[0m\u001b[0mtest_all\u001b[0m\u001b[0;34m(\u001b[0m\u001b[0mm_auth\u001b[0m\u001b[0;34m,\u001b[0m \u001b[0mcases\u001b[0m\u001b[0;34m)\u001b[0m\u001b[0;34m\u001b[0m\u001b[0m\n\u001b[1;32m      3\u001b[0m \u001b[0;34m\u001b[0m\u001b[0m\n",
        "\u001b[0;31mNameError\u001b[0m: name 'utils' is not defined"
       ]
      }
     ],
     "prompt_number": 1
    },
    {
     "cell_type": "code",
     "collapsed": false,
     "input": [
      "with utils.Timer():\n",
      "    print \"m_goog correct = %.2f,  incorrect = %.2f\" % testing.test_all(m_goog, cases)"
     ],
     "language": "python",
     "metadata": {},
     "outputs": [
      {
       "output_type": "stream",
       "stream": "stdout",
       "text": [
        "start\n",
        "m_goog correct = 0.29,  incorrect = 0.71"
       ]
      },
      {
       "output_type": "stream",
       "stream": "stdout",
       "text": [
        "\n",
        "took 10.5435s\n"
       ]
      }
     ],
     "prompt_number": 8
    },
    {
     "cell_type": "code",
     "collapsed": false,
     "input": [
      "with utils.Timer():\n",
      "    print \"m_pgr correct = %.2f,  incorrect = %.2f\" % testing.test_all(m_pgr, cases[0:10])"
     ],
     "language": "python",
     "metadata": {},
     "outputs": [
      {
       "output_type": "stream",
       "stream": "stdout",
       "text": [
        "start\n",
        "m_pgr correct = 0.81,  incorrect = 0.19"
       ]
      },
      {
       "output_type": "stream",
       "stream": "stdout",
       "text": [
        "\n",
        "took 66.6627s\n"
       ]
      }
     ],
     "prompt_number": 21
    },
    {
     "cell_type": "code",
     "collapsed": false,
     "input": [
      "with utils.Timer():\n",
      "    print \"m_dist correct = %.2f,  incorrect = %.2f\" % testing.test_all(m_dist, cases)"
     ],
     "language": "python",
     "metadata": {},
     "outputs": [
      {
       "output_type": "stream",
       "stream": "stdout",
       "text": [
        "start\n",
        "m_dist correct = 0.37,  incorrect = 0.63"
       ]
      },
      {
       "output_type": "stream",
       "stream": "stdout",
       "text": [
        "\n",
        "took 14.1902s\n"
       ]
      }
     ],
     "prompt_number": 19
    },
    {
     "cell_type": "code",
     "collapsed": false,
     "input": [
      "g100 = nx.random_regular_graph(5, 100)\n",
      "g200 = nx.random_regular_graph(5, 200)\n",
      "g1000 = nx.random_regular_graph(5, 1000)\n",
      "g2000 = nx.random_regular_graph(5, 2000)\n",
      "g10000 = nx.random_regular_graph(5, 10000)"
     ],
     "language": "python",
     "metadata": {},
     "outputs": [],
     "prompt_number": 2
    },
    {
     "cell_type": "code",
     "collapsed": false,
     "input": [
      "gra = nx.random_regular_graph(5, 200)\n",
      "with utils.Timer():\n",
      "    nx.authority_matrix(gra)\n",
      "    print \"authoritah\"\n",
      "with utils.Timer():\n",
      "    print \"goog\"\n",
      "    nx.google_matrix(gra)\n",
      "# with utils.Timer():\n",
      "#     print \"pgr\"\n",
      "#     nx.pagerank_numpy(gra)\n"
     ],
     "language": "python",
     "metadata": {},
     "outputs": [
      {
       "output_type": "stream",
       "stream": "stdout",
       "text": [
        "start\n",
        "authoritah\n",
        "took 0.0124s\n",
        "start\n",
        "goog\n",
        "took 0.0055s\n"
       ]
      }
     ],
     "prompt_number": 5
    },
    {
     "cell_type": "code",
     "collapsed": false,
     "input": [
      "from __future__ import braces"
     ],
     "language": "python",
     "metadata": {},
     "outputs": [
      {
       "ename": "SyntaxError",
       "evalue": "not a chance (<ipython-input-9-2aebb3fc8ecf>, line 1)",
       "output_type": "pyerr",
       "traceback": [
        "\u001b[0;36m  File \u001b[0;32m\"<ipython-input-9-2aebb3fc8ecf>\"\u001b[0;36m, line \u001b[0;32m1\u001b[0m\n\u001b[0;31m    from __future__ import braces\u001b[0m\n\u001b[0;31mSyntaxError\u001b[0m\u001b[0;31m:\u001b[0m not a chance\n"
       ]
      }
     ],
     "prompt_number": 9
    },
    {
     "cell_type": "code",
     "collapsed": false,
     "input": [
      "import this"
     ],
     "language": "python",
     "metadata": {},
     "outputs": [
      {
       "output_type": "stream",
       "stream": "stdout",
       "text": [
        "The Zen of Python, by Tim Peters\n",
        "\n",
        "Beautiful is better than ugly.\n",
        "Explicit is better than implicit.\n",
        "Simple is better than complex.\n",
        "Complex is better than complicated.\n",
        "Flat is better than nested.\n",
        "Sparse is better than dense.\n",
        "Readability counts.\n",
        "Special cases aren't special enough to break the rules.\n",
        "Although practicality beats purity.\n",
        "Errors should never pass silently.\n",
        "Unless explicitly silenced.\n",
        "In the face of ambiguity, refuse the temptation to guess.\n",
        "There should be one-- and preferably only one --obvious way to do it.\n",
        "Although that way may not be obvious at first unless you're Dutch.\n",
        "Now is better than never.\n",
        "Although never is often better than *right* now.\n",
        "If the implementation is hard to explain, it's a bad idea.\n",
        "If the implementation is easy to explain, it may be a good idea.\n",
        "Namespaces are one honking great idea -- let's do more of those!\n"
       ]
      }
     ],
     "prompt_number": 10
    },
    {
     "cell_type": "code",
     "collapsed": false,
     "input": [
      "print sum(range(1,1001))"
     ],
     "language": "python",
     "metadata": {},
     "outputs": [
      {
       "output_type": "stream",
       "stream": "stdout",
       "text": [
        "500500\n"
       ]
      }
     ],
     "prompt_number": 11
    },
    {
     "cell_type": "code",
     "collapsed": false,
     "input": [
      "from __future__ import krowa"
     ],
     "language": "python",
     "metadata": {},
     "outputs": [
      {
       "ename": "SyntaxError",
       "evalue": "future feature krowa is not defined (<ipython-input-13-288e5fd22e05>, line 1)",
       "output_type": "pyerr",
       "traceback": [
        "\u001b[0;36m  File \u001b[0;32m\"<ipython-input-13-288e5fd22e05>\"\u001b[0;36m, line \u001b[0;32m1\u001b[0m\n\u001b[0;31m    from __future__ import krowa\u001b[0m\n\u001b[0;31mSyntaxError\u001b[0m\u001b[0;31m:\u001b[0m future feature krowa is not defined\n"
       ]
      }
     ],
     "prompt_number": 13
    },
    {
     "cell_type": "code",
     "collapsed": false,
     "input": [],
     "language": "python",
     "metadata": {},
     "outputs": []
    }
   ],
   "metadata": {}
  }
 ]
}