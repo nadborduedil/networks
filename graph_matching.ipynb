{
 "metadata": {
  "name": "",
  "signature": "sha256:6b5ca05cc5ee19b2e6613ef2a7db0d140cabdc13ba00a1e8ba89f2a487b7e3c0"
 },
 "nbformat": 3,
 "nbformat_minor": 0,
 "worksheets": [
  {
   "cells": [
    {
     "cell_type": "code",
     "collapsed": false,
     "input": [
      "import utils\n",
      "reload(utils)\n",
      "import graph_matching as gm\n",
      "reload(gm)\n",
      "import testing\n",
      "reload(testing)\n",
      "import network_matching as nm\n",
      "reload(nm)\n",
      "import networkx as nx\n",
      "%matplotlib inline\n"
     ],
     "language": "python",
     "metadata": {},
     "outputs": [],
     "prompt_number": 1
    },
    {
     "cell_type": "code",
     "collapsed": false,
     "input": [
      "with utils.Timer():\n",
      "    cases = [testing.star_test_case(exponent=4, anchors=10, random_seed=seed+1000, \n",
      "                                    a_nodes_left=0.8, a_edges_left=0.8,\n",
      "                                    b_nodes_left=0.8, b_edges_left=0.8) for seed in range(100)]\n",
      "cases = filter(testing.validate_test_case, cases)\n",
      "print len(cases)"
     ],
     "language": "python",
     "metadata": {},
     "outputs": [
      {
       "output_type": "stream",
       "stream": "stdout",
       "text": [
        "start\n",
        "took 83.0179s"
       ]
      },
      {
       "output_type": "stream",
       "stream": "stdout",
       "text": [
        "\n",
        "100"
       ]
      },
      {
       "output_type": "stream",
       "stream": "stdout",
       "text": [
        "\n"
       ]
      }
     ],
     "prompt_number": 17
    },
    {
     "cell_type": "code",
     "collapsed": false,
     "input": [
      "# somethingN := extractor that normalizes features so that sum(v**2 for v in featurevec) is 1\n",
      "pgr = gm.AnchoredPageranksExtractor(False)\n",
      "pgrN = gm.AnchoredPageranksExtractor(True)\n",
      "dist = gm.DistExtractor(False)\n",
      "distN = gm.DistExtractor(True)\n",
      "comm = gm.CommunicabilityExtractor(False)\n",
      "commN = gm.CommunicabilityExtractor(True)\n",
      "goog = gm.GoogleExtractor(False)\n",
      "auth = gm.AuthorityExtractor(False)\n",
      "\n",
      "m_pgr = nm.BasicMatcher2([pgr])\n",
      "m_pgrN = nm.BasicMatcher2([pgrN])\n",
      "m_dist = nm.BasicMatcher2([dist])\n",
      "m_distN = nm.BasicMatcher2([distN])\n",
      "m_dist_pgr = nm.BasicMatcher2([dist, pgr])\n",
      "m_distN_pgrN = nm.BasicMatcher2([distN, pgrN])\n",
      "m_dist_pgrN = nm.BasicMatcher2([dist, pgrN])\n",
      "m_comm = nm.BasicMatcher2([comm])\n",
      "m_commN = nm.BasicMatcher2([commN])\n",
      "m_auth = nm.BasicMatcher2([auth])\n",
      "m_goog = nm.BasicMatcher2([goog])"
     ],
     "language": "python",
     "metadata": {},
     "outputs": [],
     "prompt_number": 11
    },
    {
     "cell_type": "code",
     "collapsed": false,
     "input": [
      "with utils.Timer():\n",
      "    print \"m_auth correct = %.2f,  incorrect = %.2f\" % testing.test_all(m_auth, cases)\n",
      "    \n",
      "with utils.Timer():\n",
      "    print \"m_goog correct = %.2f,  incorrect = %.2f\" % testing.test_all(m_goog, cases)"
     ],
     "language": "python",
     "metadata": {},
     "outputs": [
      {
       "output_type": "stream",
       "stream": "stdout",
       "text": [
        "start\n",
        "m_auth correct = 0.73,  incorrect = 0.27"
       ]
      },
      {
       "output_type": "stream",
       "stream": "stdout",
       "text": [
        "\n",
        "took 6.4076s\n",
        "start\n",
        "m_goog correct = 0.39,  incorrect = 0.61"
       ]
      },
      {
       "output_type": "stream",
       "stream": "stdout",
       "text": [
        "\n",
        "took 5.9284s\n"
       ]
      }
     ],
     "prompt_number": 18
    },
    {
     "cell_type": "code",
     "collapsed": false,
     "input": [
      "with utils.Timer():\n",
      "    print \"m_pgr correct = %.2f,  incorrect = %.2f\" % testing.test_all(m_pgr, cases[0:10])"
     ],
     "language": "python",
     "metadata": {},
     "outputs": [
      {
       "output_type": "stream",
       "stream": "stdout",
       "text": [
        "start\n",
        "m_pgr correct = 0.81,  incorrect = 0.19"
       ]
      },
      {
       "output_type": "stream",
       "stream": "stdout",
       "text": [
        "\n",
        "took 66.6627s\n"
       ]
      }
     ],
     "prompt_number": 21
    },
    {
     "cell_type": "code",
     "collapsed": false,
     "input": [
      "with utils.Timer():\n",
      "    print \"m_dist correct = %.2f,  incorrect = %.2f\" % testing.test_all(m_dist, cases)"
     ],
     "language": "python",
     "metadata": {},
     "outputs": [
      {
       "output_type": "stream",
       "stream": "stdout",
       "text": [
        "start\n",
        "m_dist correct = 0.37,  incorrect = 0.63"
       ]
      },
      {
       "output_type": "stream",
       "stream": "stdout",
       "text": [
        "\n",
        "took 14.1902s\n"
       ]
      }
     ],
     "prompt_number": 19
    },
    {
     "cell_type": "code",
     "collapsed": false,
     "input": [
      "g100 = nx.random_regular_graph(5, 100)\n",
      "g200 = nx.random_regular_graph(5, 200)\n",
      "g1000 = nx.random_regular_graph(5, 1000)\n",
      "g2000 = nx.random_regular_graph(5, 2000)\n",
      "g10000 = nx.random_regular_graph(5, 10000)"
     ],
     "language": "python",
     "metadata": {},
     "outputs": [],
     "prompt_number": 2
    },
    {
     "cell_type": "code",
     "collapsed": false,
     "input": [
      "gra = nx.random_regular_graph(5, 20000)\n",
      "with utils.Timer():\n",
      "    nx.authority_matrix(gra)\n",
      "    print \"authoritah\"\n",
      "with utils.Timer():\n",
      "    print \"goog\"\n",
      "    nx.google_matrix(gra)\n",
      "# with utils.Timer():\n",
      "#     print \"pgr\"\n",
      "#     nx.pagerank_numpy(gra)\n"
     ],
     "language": "python",
     "metadata": {},
     "outputs": [
      {
       "output_type": "stream",
       "stream": "stdout",
       "text": [
        "start\n",
        "authoritah"
       ]
      },
      {
       "output_type": "stream",
       "stream": "stdout",
       "text": [
        "\n",
        "took 55.1731s\n",
        "start\n",
        "goog\n",
        "took 6.7098s"
       ]
      },
      {
       "output_type": "stream",
       "stream": "stdout",
       "text": [
        "\n"
       ]
      }
     ],
     "prompt_number": 10
    },
    {
     "cell_type": "code",
     "collapsed": false,
     "input": [
      "2+2"
     ],
     "language": "python",
     "metadata": {},
     "outputs": [
      {
       "metadata": {},
       "output_type": "pyout",
       "prompt_number": 11,
       "text": [
        "4"
       ]
      }
     ],
     "prompt_number": 11
    },
    {
     "cell_type": "code",
     "collapsed": false,
     "input": [
      "nx.cn_soundarajan_hopcroft?"
     ],
     "language": "python",
     "metadata": {},
     "outputs": [],
     "prompt_number": 15
    },
    {
     "cell_type": "code",
     "collapsed": false,
     "input": [],
     "language": "python",
     "metadata": {},
     "outputs": []
    }
   ],
   "metadata": {}
  }
 ]
}