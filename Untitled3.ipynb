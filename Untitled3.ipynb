{
 "metadata": {
  "name": "",
  "signature": "sha256:d3376c9ef91ca1024503761853543bc94696c439a9ae7e5523a8ed444167b1e2"
 },
 "nbformat": 3,
 "nbformat_minor": 0,
 "worksheets": [
  {
   "cells": [
    {
     "cell_type": "code",
     "collapsed": false,
     "input": [
      "# Definition for singly-linked list.\n",
      "class ListNode:\n",
      "    def __init__(self, x):\n",
      "        self.val = x\n",
      "        self.next = None\n",
      "    def __str__(self):\n",
      "        return str(self.val)\n",
      "    \n",
      "def printlist(node):\n",
      "    nums = []\n",
      "    while node:\n",
      "        nums.append(str(node.val))\n",
      "        node = node.next\n",
      "    print \" -> \".join(nums)\n",
      "    \n",
      "def make_list(n):\n",
      "    li = ListNode(0)\n",
      "    last = li\n",
      "    for i in range(1, n):\n",
      "        new_node = ListNode(i)\n",
      "        last.next = new_node\n",
      "        last = new_node\n",
      "    return li\n",
      "li = make_list(10)\n",
      "printlist(li)"
     ],
     "language": "python",
     "metadata": {},
     "outputs": [
      {
       "output_type": "stream",
       "stream": "stdout",
       "text": [
        "0 -> 1 -> 2 -> 3 -> 4 -> 5 -> 6 -> 7 -> 8 -> 9\n"
       ]
      }
     ],
     "prompt_number": 30
    },
    {
     "cell_type": "code",
     "collapsed": false,
     "input": [
      "def get_k(node, k):\n",
      "    while node and k>1:\n",
      "        node = node.next\n",
      "        k -= 1\n",
      "    if k == 1:\n",
      "        return node"
     ],
     "language": "python",
     "metadata": {},
     "outputs": [],
     "prompt_number": 27
    },
    {
     "cell_type": "code",
     "collapsed": false,
     "input": [
      "def reverse_sublist(head, tail):\n",
      "    if head == tail:\n",
      "        return \n",
      "    right_head = head.next\n",
      "    head.next = None\n",
      "    left_head = head\n",
      "    while right_head != tail:\n",
      "        new_right_head = right_head.next\n",
      "        right_head.next = left_head\n",
      "        left_head = right_head\n",
      "        right_head = new_right_head\n",
      "    right_head.next = left_head\n",
      "    \n",
      "def reverse_k(node, k):\n",
      "    left_head = ListNode(0)\n",
      "    left_tail = left_head\n",
      "    right_head = node\n",
      "    while right_head:\n",
      "        kth = get_k(right_head, k)\n",
      "        if not kth:\n",
      "            left_tail.next = right_head\n",
      "            right_head = kth\n",
      "        else:\n",
      "            new_right_head = kth.next\n",
      "            reverse_sublist(right_head, kth)\n",
      "            left_tail.next = kth\n",
      "            left_tail = right_head\n",
      "            right_head = new_right_head\n",
      "    return left_head.next"
     ],
     "language": "python",
     "metadata": {},
     "outputs": [],
     "prompt_number": 28
    },
    {
     "cell_type": "code",
     "collapsed": false,
     "input": [
      "li = make_list(11)\n",
      "printlist(li)\n",
      "printlist(reverse_k(li, 3))"
     ],
     "language": "python",
     "metadata": {},
     "outputs": [
      {
       "output_type": "stream",
       "stream": "stdout",
       "text": [
        "0 -> 1 -> 2 -> 3 -> 4 -> 5 -> 6 -> 7 -> 8 -> 9 -> 10\n",
        "2 -> 1 -> 0 -> 5 -> 4 -> 3 -> 8 -> 7 -> 6 -> 9 -> 10\n"
       ]
      }
     ],
     "prompt_number": 32
    },
    {
     "cell_type": "code",
     "collapsed": false,
     "input": [
      "def justify_line(words, L, used):\n",
      "    if len(words) == 1:\n",
      "        return words[0] + (L-used)*\" \"\n",
      "    ngaps = len(words)-1\n",
      "    #additional space\n",
      "    aspace = (L-used)/ngaps\n",
      "    # gaps with 1 additional additional space\n",
      "    onemore = (L-used)-aspace*ngaps\n",
      "    words_spaces = []\n",
      "    gaps_left = ngaps\n",
      "    for word in words:\n",
      "        words_spaces.append(word)\n",
      "        if gaps_left > 0:\n",
      "            n = 1 + aspace\n",
      "            if onemore > 0:\n",
      "                n += 1\n",
      "                onemore -= 1\n",
      "            words_spaces.append(\" \"*n)\n",
      "        gaps_left -=1\n",
      "    return \"\".join(words_spaces)\n",
      "\n",
      "def full_justify(words, L):\n",
      "    lines = []\n",
      "    curr_words = []\n",
      "    used_space = 0\n",
      "    for word in words:\n",
      "        if not curr_words:\n",
      "            curr_words.append(word)\n",
      "            used_space = len(word)\n",
      "        else:\n",
      "            needed = len(word) + 1\n",
      "            if used_space + needed > L:\n",
      "                lines.append(justify_line(curr_words, L, used_space))\n",
      "                curr_words = [word]\n",
      "                used_space = needed-1\n",
      "            else:\n",
      "                curr_words.append(word)\n",
      "                used_space += needed\n",
      "    print \"lines = \"\n",
      "    print lines\n",
      "    if curr_words:\n",
      "        lines.append(\" \".join(curr_words)+\" \"*(L-used_space))\n",
      "    return lines"
     ],
     "language": "python",
     "metadata": {},
     "outputs": [],
     "prompt_number": 66
    },
    {
     "cell_type": "code",
     "collapsed": false,
     "input": [
      "inp = [\"Here\",\"is\",\"an\",\"example\",\"of\",\"text\",\"justification.\"]\n",
      "full_justify(inp, 16)"
     ],
     "language": "python",
     "metadata": {},
     "outputs": [
      {
       "output_type": "stream",
       "stream": "stdout",
       "text": [
        "lines = \n",
        "['Here    is    an', 'example  of text']\n"
       ]
      },
      {
       "metadata": {},
       "output_type": "pyout",
       "prompt_number": 67,
       "text": [
        "['Here    is    an', 'example  of text', 'justification.  ']"
       ]
      }
     ],
     "prompt_number": 67
    },
    {
     "cell_type": "code",
     "collapsed": false,
     "input": [
      "[\"Here     is     an\",\"example  of text\",\"justification.  \"]\n",
      "[\"Here    is    an\",\"example  of text\",\"justification.  \"]\n",
      "['Here    is    an','example  of text','justification.  ']"
     ],
     "language": "python",
     "metadata": {},
     "outputs": []
    }
   ],
   "metadata": {}
  }
 ]
}