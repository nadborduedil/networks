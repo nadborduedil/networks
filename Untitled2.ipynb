{
 "metadata": {
  "name": "",
  "signature": "sha256:f4c047a73a446cde45637526e6ab0154942a6a4b38869aef50a37008876a07d0"
 },
 "nbformat": 3,
 "nbformat_minor": 0,
 "worksheets": [
  {
   "cells": [
    {
     "cell_type": "code",
     "collapsed": false,
     "input": [
      "def longest_pal(text):\n",
      "    longest_pal = None\n",
      "    longest_len = 0\n",
      "    left_ends = []\n",
      "    for curr in range(len(text)):\n",
      "        c = text[curr]\n",
      "        new_ends = [curr]\n",
      "        if curr > 0 and text[curr-1] == c:\n",
      "            new_ends.append(curr-1)\n",
      "        for left in left_ends:\n",
      "            if left > 0 and text[left-1] == c:\n",
      "                new_ends.append(left-1)\n",
      "        if curr - new_ends[-1] + 1 > longest_len:\n",
      "            longest_len = curr - new_ends[-1] + 1\n",
      "            longest_pal = (new_ends[-1], curr)\n",
      "        left_ends = new_ends\n",
      "    a, b = longest_pal\n",
      "    return text[a:(b+1)]"
     ],
     "language": "python",
     "metadata": {},
     "outputs": [],
     "prompt_number": 6
    },
    {
     "cell_type": "code",
     "collapsed": false,
     "input": [
      "longest_pal(\"bb\")"
     ],
     "language": "python",
     "metadata": {},
     "outputs": [
      {
       "metadata": {},
       "output_type": "pyout",
       "prompt_number": 7,
       "text": [
        "'bb'"
       ]
      }
     ],
     "prompt_number": 7
    },
    {
     "cell_type": "code",
     "collapsed": false,
     "input": [
      "def maxgap(nums):\n",
      "    if len(nums) < 2:\n",
      "        return 0\n",
      "    mi, ma = min(nums), max(nums)\n",
      "    if len(nums) > ma-mi:\n",
      "        bits = [False] * (ma-mi+1)\n",
      "        for num in nums:\n",
      "            ind = num - mi\n",
      "            bits[ind] = True\n",
      "        gap = 0\n",
      "        maxgap = 0\n",
      "        for b in bits:\n",
      "            if b:\n",
      "                maxgap = max(maxgap, gap)\n",
      "                gap = 1\n",
      "            else:\n",
      "                gap += 1\n",
      "        return maxgap\n",
      "    else:\n",
      "        so = sorted(nums)\n",
      "        maxgap = 0\n",
      "        for i in range(len(so)-1):\n",
      "            gap = so[i+1]-so[i]\n",
      "            maxgap = max(gap, maxgap)\n",
      "        return maxgap"
     ],
     "language": "python",
     "metadata": {},
     "outputs": [],
     "prompt_number": 15
    },
    {
     "cell_type": "code",
     "collapsed": false,
     "input": [
      "def findmin(nums):\n",
      "    a = 0\n",
      "    b = len(nums) - 1\n",
      "    while a < b:\n",
      "        \n",
      "        na, nb = nums[a], nums[b]\n",
      "        mid = (a + b)/2\n",
      "        nmid = nums[mid]\n",
      "        if na < nb:\n",
      "            b = a\n",
      "        elif na == nb:\n",
      "            if nmid == na:\n",
      "                while a < b and nums[a] == na:\n",
      "                    a+=1\n",
      "            elif nmid > na:\n",
      "                a = mid\n",
      "            else:\n",
      "                b = mid\n",
      "        else:\n",
      "            # must be na > nb\n",
      "            if nmid >= na:\n",
      "                a = mid+1\n",
      "            elif nmid <= nb:\n",
      "                b = mid\n",
      "            else:\n",
      "                # na > nmid > nb\n",
      "                b = mid\n",
      "    return nums[a]\n",
      "            \n",
      "    "
     ],
     "language": "python",
     "metadata": {},
     "outputs": [],
     "prompt_number": 4
    },
    {
     "cell_type": "code",
     "collapsed": false,
     "input": [
      "a = [4,4,4,4, 5,5,6,1,1,1,2,3,3, 4, 4, 4, 4]"
     ],
     "language": "python",
     "metadata": {},
     "outputs": [],
     "prompt_number": 5
    },
    {
     "cell_type": "code",
     "collapsed": false,
     "input": [
      "def queens(n):\n",
      "    return map(represent, q(n, []))\n",
      "    \n",
      "def represent(config):\n",
      "    n = len(config)\n",
      "    def repline(n,k):\n",
      "        line = [\".\"]*n\n",
      "        line[k] = \"Q\"\n",
      "        return \"\".join(line)\n",
      "    return \"\\n\".join([repline(n, k) for k in config])\n",
      "    \n",
      "def q(n, sofar):\n",
      "    k = len(sofar)\n",
      "    if k == n:\n",
      "        return [sofar]\n",
      "    next_moves = legal(n, sofar)\n",
      "    configs = []\n",
      "    for move in next_moves:\n",
      "        sofar_copy = [x for x in sofar]\n",
      "        sofar_copy.append(move)\n",
      "        for con in q(n, sofar_copy):\n",
      "            configs.append(con)\n",
      "    return configs\n",
      "\n",
      "def legal(n, sofar):\n",
      "    moves = [True] * n\n",
      "    k = len(sofar)\n",
      "    for i, pos in enumerate(sofar):\n",
      "        moves[pos] = False\n",
      "        if pos + k - i < n:\n",
      "            moves[pos + k - i] = False\n",
      "        if pos - k + i >= 0:\n",
      "            moves[pos - k + i] = False\n",
      "        \n",
      "    return [i for i, ok in enumerate(moves) if ok]\n",
      "\n",
      "        \n",
      "        "
     ],
     "language": "python",
     "metadata": {},
     "outputs": [],
     "prompt_number": 18
    },
    {
     "cell_type": "code",
     "collapsed": false,
     "input": [
      "legal(8, [0,2,6])\n",
      "q(4, [])"
     ],
     "language": "python",
     "metadata": {},
     "outputs": [
      {
       "metadata": {},
       "output_type": "pyout",
       "prompt_number": 13,
       "text": [
        "[[1, 3, 0, 2], [2, 0, 3, 1]]"
       ]
      }
     ],
     "prompt_number": 13
    },
    {
     "cell_type": "code",
     "collapsed": false,
     "input": [
      "q..N\n",
      "...\n",
      ".q.N\n",
      "...N\n",
      "...N\n",
      "...N\n",
      "..qN\n",
      "...N"
     ],
     "language": "python",
     "metadata": {},
     "outputs": [
      {
       "ename": "SyntaxError",
       "evalue": "invalid syntax (<ipython-input-14-30ac0b742d63>, line 1)",
       "output_type": "pyerr",
       "traceback": [
        "\u001b[0;36m  File \u001b[0;32m\"<ipython-input-14-30ac0b742d63>\"\u001b[0;36m, line \u001b[0;32m1\u001b[0m\n\u001b[0;31m    q..N\u001b[0m\n\u001b[0m      ^\u001b[0m\n\u001b[0;31mSyntaxError\u001b[0m\u001b[0;31m:\u001b[0m invalid syntax\n"
       ]
      }
     ],
     "prompt_number": 14
    },
    {
     "cell_type": "code",
     "collapsed": false,
     "input": [
      "\".\"*3"
     ],
     "language": "python",
     "metadata": {},
     "outputs": [
      {
       "metadata": {},
       "output_type": "pyout",
       "prompt_number": 15,
       "text": [
        "'...'"
       ]
      }
     ],
     "prompt_number": 15
    },
    {
     "cell_type": "code",
     "collapsed": false,
     "input": [
      "print \"\\n\\n\".join(queens(5))"
     ],
     "language": "python",
     "metadata": {},
     "outputs": [
      {
       "output_type": "stream",
       "stream": "stdout",
       "text": [
        "Q....\n",
        "..Q..\n",
        "....Q\n",
        ".Q...\n",
        "...Q.\n",
        "\n",
        "Q....\n",
        "...Q.\n",
        ".Q...\n",
        "....Q\n",
        "..Q..\n",
        "\n",
        ".Q...\n",
        "...Q.\n",
        "Q....\n",
        "..Q..\n",
        "....Q\n",
        "\n",
        ".Q...\n",
        "....Q\n",
        "..Q..\n",
        "Q....\n",
        "...Q.\n",
        "\n",
        "..Q..\n",
        "Q....\n",
        "...Q.\n",
        ".Q...\n",
        "....Q\n",
        "\n",
        "..Q..\n",
        "....Q\n",
        ".Q...\n",
        "...Q.\n",
        "Q....\n",
        "\n",
        "...Q.\n",
        "Q....\n",
        "..Q..\n",
        "....Q\n",
        ".Q...\n",
        "\n",
        "...Q.\n",
        ".Q...\n",
        "....Q\n",
        "..Q..\n",
        "Q....\n",
        "\n",
        "....Q\n",
        ".Q...\n",
        "...Q.\n",
        "Q....\n",
        "..Q..\n",
        "\n",
        "....Q\n",
        "..Q..\n",
        "Q....\n",
        "...Q.\n",
        ".Q...\n"
       ]
      }
     ],
     "prompt_number": 22
    },
    {
     "cell_type": "code",
     "collapsed": false,
     "input": [
      "\"34\".split(\".\")"
     ],
     "language": "python",
     "metadata": {},
     "outputs": [
      {
       "metadata": {},
       "output_type": "pyout",
       "prompt_number": 23,
       "text": [
        "['34']"
       ]
      }
     ],
     "prompt_number": 23
    },
    {
     "cell_type": "code",
     "collapsed": false,
     "input": [
      "int(\"01\")"
     ],
     "language": "python",
     "metadata": {},
     "outputs": [
      {
       "metadata": {},
       "output_type": "pyout",
       "prompt_number": 24,
       "text": [
        "1"
       ]
      }
     ],
     "prompt_number": 24
    },
    {
     "cell_type": "code",
     "collapsed": false,
     "input": [
      "for a,b in zip([1,2,3],[-1]):\n",
      "    print a,b"
     ],
     "language": "python",
     "metadata": {},
     "outputs": [
      {
       "output_type": "stream",
       "stream": "stdout",
       "text": [
        "1 -1\n"
       ]
      }
     ],
     "prompt_number": 26
    },
    {
     "cell_type": "code",
     "collapsed": false,
     "input": [
      "    def compareVersion(version1, version2):\n",
      "        ver1 = map(int, version1.split(\".\"))\n",
      "        ver2 = map(int, version2.split(\".\"))\n",
      "        l1, l2 = len(ver1), len(ver2)\n",
      "        print l1, l2\n",
      "        if l1 > l2:\n",
      "            ver2 += [0]*(l2 - l1)\n",
      "        elif l2 > l1:\n",
      "            print \"hello\"\n",
      "            print [0] *(l1 -l2)\n",
      "            ver1 += [0] *(l1 -l2)\n",
      "        print ver1, ver2\n",
      "        for a,b in zip(ver1, ver2):\n",
      "            if a>b:\n",
      "                return 1\n",
      "            elif b>a:\n",
      "                return -1\n",
      "        return 0"
     ],
     "language": "python",
     "metadata": {},
     "outputs": [],
     "prompt_number": 37
    },
    {
     "cell_type": "code",
     "collapsed": false,
     "input": [
      "compareVersion(\"1\", \"1.1\")"
     ],
     "language": "python",
     "metadata": {},
     "outputs": [
      {
       "output_type": "stream",
       "stream": "stdout",
       "text": [
        "1 2\n",
        "hello\n",
        "[]\n",
        "[1] [1, 1]\n"
       ]
      },
      {
       "metadata": {},
       "output_type": "pyout",
       "prompt_number": 38,
       "text": [
        "0"
       ]
      }
     ],
     "prompt_number": 38
    },
    {
     "cell_type": "code",
     "collapsed": false,
     "input": [],
     "language": "python",
     "metadata": {},
     "outputs": []
    }
   ],
   "metadata": {}
  }
 ]
}