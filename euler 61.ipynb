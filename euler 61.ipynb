{
 "metadata": {
  "name": "",
  "signature": "sha256:2c1a8017332899738d55de8a76eb4af9eadc75799f599fd1cb3a9ecd2e38b172"
 },
 "nbformat": 3,
 "nbformat_minor": 0,
 "worksheets": [
  {
   "cells": [
    {
     "cell_type": "code",
     "collapsed": false,
     "input": [
      "with open(\"/Users/nadbordrozd/Downloads/words.txt\", \"rb\") as wordsfile:\n",
      "    lines = wordsfile.readlines()"
     ],
     "language": "python",
     "metadata": {},
     "outputs": [],
     "prompt_number": 5
    },
    {
     "cell_type": "code",
     "collapsed": false,
     "input": [
      "words = [w.replace(\"\\\"\", \"\") for w in lines[0].split(\",\")]"
     ],
     "language": "python",
     "metadata": {},
     "outputs": [],
     "prompt_number": 11
    },
    {
     "cell_type": "code",
     "collapsed": false,
     "input": [
      "ana_dict = {}\n",
      "for w in words:\n",
      "    s = \"\".join(sorted(w))\n",
      "    ana_dict.setdefault(s, []).append(w)"
     ],
     "language": "python",
     "metadata": {},
     "outputs": [],
     "prompt_number": 13
    },
    {
     "cell_type": "code",
     "collapsed": false,
     "input": [
      "anagrams = filter(lambda x: len(x)>1, ana_dict.values())"
     ],
     "language": "python",
     "metadata": {},
     "outputs": [],
     "prompt_number": 15
    },
    {
     "cell_type": "code",
     "collapsed": false,
     "input": [
      "maxlen = max(len(an[0]) for an in anagrams)\n",
      "squares_by_len = {}\n",
      "i = 1\n",
      "s = \"1\"\n",
      "while len(s) <= maxlen:\n",
      "    squares_by_len.setdefault(len(s), set()).add(s)\n",
      "    i += 1\n",
      "    s = str(i**2)"
     ],
     "language": "python",
     "metadata": {},
     "outputs": [],
     "prompt_number": 18
    },
    {
     "cell_type": "code",
     "collapsed": false,
     "input": [
      "def word_num_match(word, numstring):\n",
      "    match = {}\n",
      "    used = set()\n",
      "    for a, b in zip(word, numstring):\n",
      "        if a not in match:\n",
      "            if b in used:\n",
      "                return None\n",
      "            used.add(b)\n",
      "            match[a] = b\n",
      "        elif match[a] != b:\n",
      "            return None\n",
      "    return match\n",
      "\n",
      "def word_to_num(word, match):\n",
      "    return \"\".join([match[c] for c in word])\n"
     ],
     "language": "python",
     "metadata": {},
     "outputs": [],
     "prompt_number": 28
    },
    {
     "cell_type": "code",
     "collapsed": false,
     "input": [
      "for anas in anagrams:\n",
      "    for i in range(len(anas)):\n",
      "        for j in range(i+1, len(anas)):\n",
      "            a, b = anas[i], anas[j]\n",
      "            n = len(a)\n",
      "            for sqr in squares_by_len[n]:\n",
      "                match = word_num_match(a, sqr)\n",
      "                if not match:\n",
      "                    continue\n",
      "                other = word_to_num(b, match)\n",
      "                if other in squares_by_len[n]:\n",
      "                    print a, b, sqr, other"
     ],
     "language": "python",
     "metadata": {},
     "outputs": [
      {
       "output_type": "stream",
       "stream": "stdout",
       "text": [
        "NOW OWN 196 961\n",
        "NOW OWN 625 256\n",
        "EAT TEA 256 625\n",
        "EAT TEA 961 196\n",
        "SHUT THUS 1764 4761\n",
        "SHUT THUS 4761 1764\n",
        "HOW"
       ]
      },
      {
       "output_type": "stream",
       "stream": "stdout",
       "text": [
        " WHO 256 625\n",
        "HOW WHO 961 196\n",
        "HATE HEAT 1369 1936\n",
        "DEAL LEAD 1764 4761\n",
        "DEAL LEAD 4761 1764\n",
        "NOTE TONE 1296 9216\n",
        "NOTE TONE 9216 1296\n",
        "RATE TEAR 1024 2401\n",
        "RATE TEAR 4096 9604\n",
        "FILE LIFE 1296 9216\n",
        "FILE LIFE 9216 1296\n",
        "EAST SEAT 2916 1296\n",
        "CARE RACE 1296 9216\n",
        "CARE RACE 9216 1296\n",
        "MALE MEAL 1369 1936\n",
        "ITS SIT 256 625\n",
        "ITS SIT 961 196\n",
        "BOARD BROAD 17689 18769\n",
        "MEAN NAME 2401 1024\n",
        "MEAN NAME 9604 4096\n",
        "POST SPOT 2916 1296\n",
        "POST STOP 1024 2401\n",
        "POST STOP 4096 9604\n",
        "DOG GOD 169 961\n",
        "DOG GOD 961 169\n"
       ]
      }
     ],
     "prompt_number": 29
    },
    {
     "cell_type": "code",
     "collapsed": false,
     "input": [
      "anagrams"
     ],
     "language": "python",
     "metadata": {},
     "outputs": [
      {
       "metadata": {},
       "output_type": "pyout",
       "prompt_number": 23,
       "text": [
        "[['CREDIT', 'DIRECT'],\n",
        " ['NOW', 'OWN'],\n",
        " ['EXCEPT', 'EXPECT'],\n",
        " ['EAT', 'TEA'],\n",
        " ['SHUT', 'THUS'],\n",
        " ['SURE', 'USER'],\n",
        " ['INTRODUCE', 'REDUCTION'],\n",
        " ['ITEM', 'TIME'],\n",
        " ['HOW', 'WHO'],\n",
        " ['HATE', 'HEAT'],\n",
        " ['DEAL', 'LEAD'],\n",
        " ['LEAST', 'STEAL'],\n",
        " ['DANGER', 'GARDEN'],\n",
        " ['FORMER', 'REFORM'],\n",
        " ['NOTE', 'TONE'],\n",
        " ['FORM', 'FROM'],\n",
        " ['EARN', 'NEAR'],\n",
        " ['SHEET', 'THESE'],\n",
        " ['RATE', 'TEAR'],\n",
        " ['SHOUT', 'SOUTH'],\n",
        " ['CENTRE', 'RECENT'],\n",
        " ['FILE', 'LIFE'],\n",
        " ['NO', 'ON'],\n",
        " ['IGNORE', 'REGION'],\n",
        " ['EAST', 'SEAT'],\n",
        " ['CARE', 'RACE'],\n",
        " ['MALE', 'MEAL'],\n",
        " ['ITS', 'SIT'],\n",
        " ['COURSE', 'SOURCE'],\n",
        " ['BOARD', 'BROAD'],\n",
        " ['MEAN', 'NAME'],\n",
        " ['QUIET', 'QUITE'],\n",
        " ['EARTH', 'HEART'],\n",
        " ['ACT', 'CAT'],\n",
        " ['THROW', 'WORTH'],\n",
        " ['ARISE', 'RAISE'],\n",
        " ['POST', 'SPOT', 'STOP'],\n",
        " ['NIGHT', 'THING'],\n",
        " ['DOG', 'GOD'],\n",
        " ['PHASE', 'SHAPE'],\n",
        " ['CREATION', 'REACTION'],\n",
        " ['SIGN', 'SING']]"
       ]
      }
     ],
     "prompt_number": 23
    },
    {
     "cell_type": "code",
     "collapsed": false,
     "input": [],
     "language": "python",
     "metadata": {},
     "outputs": []
    }
   ],
   "metadata": {}
  }
 ]
}