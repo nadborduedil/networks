{
 "metadata": {
  "name": "",
  "signature": "sha256:a8f910136ea45b4cedabeb4fb200cac2f441ec37d6fd5e9bd560ee72a8581fad"
 },
 "nbformat": 3,
 "nbformat_minor": 0,
 "worksheets": [
  {
   "cells": [
    {
     "cell_type": "code",
     "collapsed": false,
     "input": [
      "import utils\n",
      "reload(utils)\n",
      "import graph_matching as gm\n",
      "reload(gm)\n",
      "import testing\n",
      "reload(testing)\n",
      "import network_matching as nm\n",
      "reload(nm)\n",
      "import networkx as nx\n",
      "%matplotlib inline"
     ],
     "language": "python",
     "metadata": {},
     "outputs": []
    },
    {
     "cell_type": "code",
     "collapsed": false,
     "input": [
      "with utils.Timer():\n",
      "    cases = [testing.star_test_case(exponent=5, anchors=10, random_seed=seed, \n",
      "                                    a_nodes_left=0.8, a_edges_left=0.8,\n",
      "                                    b_nodes_left=0.8, b_edges_left=0.8) for seed in range(10)]\n",
      "cases = filter(testing.validate_test_case, cases)\n",
      "print len(cases)"
     ],
     "language": "python",
     "metadata": {},
     "outputs": []
    },
    {
     "cell_type": "code",
     "collapsed": false,
     "input": [
      "pgrs_matcher = nm.BasicMatcher(use_dist=False, use_pgrs=True, use_pgr=False)\n",
      "dist_matcher = nm.BasicMatcher(use_dist=True, use_pgrs=False, use_pgr=False)\n",
      "both_matcher = nm.BasicMatcher(use_dist=True, use_pgrs=True, use_pgr=False)\n",
      "with_pgr  = nm.BasicMatcher(use_dist=True, use_pgrs=True, use_pgr=True)\n",
      "with utils.Timer():\n",
      "    print \"pgrs correct fraction = %.2f,  incorrect fraction = %.2f\" % testing.test_all(pgrs_matcher, cases)\n",
      "with utils.Timer():\n",
      "    print \"dist correct fraction = %.2f,  incorrect fraction = %.2f\" % testing.test_all(dist_matcher, cases)\n",
      "with utils.Timer():\n",
      "    print \"both correct fraction = %.2f,  incorrect fraction = %.2f\" % testing.test_all(both_matcher, cases)\n",
      "with utils.Timer():\n",
      "    print \"all 3 correct fraction = %.2f,  incorrect fraction = %.2f\" % testing.test_all(with_pgr, cases)"
     ],
     "language": "python",
     "metadata": {},
     "outputs": []
    }
   ],
   "metadata": {}
  }
 ]
}