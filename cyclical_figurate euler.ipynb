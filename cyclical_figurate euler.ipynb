{
 "metadata": {
  "name": "",
  "signature": "sha256:76a53e356616b1e8aad91d450644e739335e74b8a45b9a5d72ca7225cc46c20f"
 },
 "nbformat": 3,
 "nbformat_minor": 0,
 "worksheets": [
  {
   "cells": [
    {
     "cell_type": "code",
     "collapsed": false,
     "input": [
      "\n",
      "# Triangle\t \tP3,n=n(n+1)/2\t \t1, 3, 6, 10, 15, ...\n",
      "# Square\t \tP4,n=n2\t \t1, 4, 9, 16, 25, ...\n",
      "# Pentagonal\t \tP5,n=n(3n\u22121)/2\t \t1, 5, 12, 22, 35, ...\n",
      "# Hexagonal\t \tP6,n=n(2n\u22121)\t \t1, 6, 15, 28, 45, ...\n",
      "# Heptagonal\t \tP7,n=n(5n\u22123)/2\t \t1, 7, 18, 34, 55, ...\n",
      "# Octagonal\t \tP8,n=n(3n\u22122)\t \t1, 8, 21, 40, 65, ...\n",
      "\n",
      "def triangle(n):\n",
      "    return n*(n+1)/2\n",
      "def square(n):\n",
      "    return n**2\n",
      "def pentagon(n):\n",
      "    return n*(3*n-1)/2\n",
      "def hexagon(n):\n",
      "    return n*(2*n-1)\n",
      "def heptagon(n):\n",
      "    return n*(5*n-3)/2\n",
      "def octagon(n):\n",
      "    return n*(3*n-2)\n",
      "polygons = [triangle, square, pentagon, hexagon, heptagon, octagon]\n",
      "def generate_nums(genfun):\n",
      "    nums = []\n",
      "    i = 0\n",
      "    while True:\n",
      "        i += 1\n",
      "        num = genfun(i)\n",
      "        if num >= 10*3 and num < 10**4:\n",
      "            nums.append(num)\n",
      "        elif num >= 10**4:\n",
      "            break\n",
      "    return nums\n",
      "\n",
      "# list of lists of numbers \n",
      "num_families = map(generate_nums, polygons)"
     ],
     "language": "python",
     "metadata": {},
     "outputs": [],
     "prompt_number": 10
    },
    {
     "cell_type": "code",
     "collapsed": false,
     "input": [
      "class Node:\n",
      "    def __init__(self, num, family):\n",
      "        self.num = num\n",
      "        self.prefix = str(num)[0:2]\n",
      "        self.suffix = str(num)[2:4]\n",
      "        self.family = family\n",
      "        self.neighbors = []\n",
      "        \n",
      "    def add_neighbor(self, other):\n",
      "        self.neighbors.append(other)\n",
      "        \n",
      "    def __str__(self):\n",
      "        return \"n = %s  len(neibs) = %s\" % (self.num, len(self.neighbors))\n",
      "    \n",
      "all_nodes = []\n",
      "by_prefix = {}\n",
      "by_suffix = {}\n",
      "by_family = {}\n",
      "count = 0\n",
      "for family, numbers in enumerate(num_families):\n",
      "    for num in numbers:\n",
      "        count += 1\n",
      "        node = Node(num, family)\n",
      "        all_nodes.append(node)\n",
      "        by_prefix.setdefault(node.prefix, set()).add(node)\n",
      "        by_suffix.setdefault(node.suffix, set()).add(node)\n",
      "        by_family.setdefault(family, set()).add(node)\n",
      "print \"there are %s nodes\" % count"
     ],
     "language": "python",
     "metadata": {},
     "outputs": [
      {
       "output_type": "stream",
       "stream": "stdout",
       "text": [
        "there are 485 nodes\n"
       ]
      }
     ],
     "prompt_number": 49
    },
    {
     "cell_type": "code",
     "collapsed": false,
     "input": [
      "# add edges\n",
      "for node in all_nodes:\n",
      "    family = node.family\n",
      "    neighbors = by_prefix.get(node.suffix, [])\n",
      "    neighbors = filter(lambda x: x.family != family, neighbors)\n",
      "    node.neighbors = neighbors"
     ],
     "language": "python",
     "metadata": {},
     "outputs": [],
     "prompt_number": 50
    },
    {
     "cell_type": "code",
     "collapsed": false,
     "input": [
      "def all_paths(node, path_len):\n",
      "    if path_len == 1:\n",
      "        return [[node]]\n",
      "    else:\n",
      "        ret = []\n",
      "        for neigh in node.neighbors:\n",
      "            paths = all_paths(neigh, path_len - 1)\n",
      "            for path in paths:\n",
      "                ret.append([node] + path)\n",
      "        return ret\n",
      "\n",
      "def is_ok_path(nodes):\n",
      "    if nodes[0] != nodes[-1]:\n",
      "        return False\n",
      "    fams = set([n.family for n in nodes])\n",
      "    return len(fams) == 6"
     ],
     "language": "python",
     "metadata": {},
     "outputs": [],
     "prompt_number": 59
    },
    {
     "cell_type": "code",
     "collapsed": false,
     "input": [
      "for node in by_family[5]:\n",
      "    paths = all_paths(node, 7)\n",
      "    paths = filter(is_ok_path, paths)\n",
      "    if paths:\n",
      "        print len(paths)\n",
      "        for path in paths:\n",
      "            print \"\\n\".join(map(str, path))\n",
      "            print sum([n.num for n in path]) - path[0].num"
     ],
     "language": "python",
     "metadata": {},
     "outputs": [
      {
       "output_type": "stream",
       "stream": "stdout",
       "text": [
        "1\n",
        "n = 1281  len(neibs) = 6\n",
        "n = 8128  len(neibs) = 9\n",
        "n = 2882  len(neibs) = 3\n",
        "n = 8256  len(neibs) = 4\n",
        "n = 5625  len(neibs) = 5\n",
        "n = 2512  len(neibs) = 10\n",
        "n = 1281  len(neibs) = 6\n",
        "28684\n"
       ]
      }
     ],
     "prompt_number": 61
    },
    {
     "cell_type": "code",
     "collapsed": false,
     "input": [],
     "language": "python",
     "metadata": {},
     "outputs": []
    }
   ],
   "metadata": {}
  }
 ]
}