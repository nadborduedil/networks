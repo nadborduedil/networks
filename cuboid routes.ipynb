{
 "metadata": {
  "name": "",
  "signature": "sha256:acc1b399f4a2ce643170012a9f3da1ac3e27b6009286210b19100da215e98e21"
 },
 "nbformat": 3,
 "nbformat_minor": 0,
 "worksheets": [
  {
   "cells": [
    {
     "cell_type": "code",
     "collapsed": false,
     "input": [
      "def prod(nums):\n",
      "    p = 1\n",
      "    for n in nums:\n",
      "        p *= n\n",
      "    return p"
     ],
     "language": "python",
     "metadata": {},
     "outputs": [],
     "prompt_number": 1
    },
    {
     "cell_type": "code",
     "collapsed": false,
     "input": [
      "def pyth_triples(limit):\n",
      "    triples = set()\n",
      "    m = 1\n",
      "    n = 1\n",
      "    k = 1\n",
      "    while m**2 <= limit:\n",
      "        for n in range(1, m):\n",
      "            a = m**2 - n**2\n",
      "            b = 2*m*n\n",
      "            a, b = min(a,b), max(a,b)\n",
      "            c = m**2 + n**2\n",
      "            k = 1\n",
      "            while b*k <= limit or (b < 2*a and a*k<=limit):\n",
      "                triple = (a*k,b*k,c*k)\n",
      "                triples.add(triple)\n",
      "                k += 1\n",
      "        m += 1\n",
      "    return triples\n",
      "\n",
      "# 4 = 1+3, 2+2;  5 = 1+4, 2+3; 6 = 1+5, 2+4, 3+3\n",
      "# niech b < 2*a.  na ile sposobow mozna przedstawic b jako\n",
      "# sume dwoch wyrazow, kazdy <= a\n",
      "# b = 5, a = 3  -> b = 2+3;  b = 8 a = 5 -> b = 5+3, 4+4; \n",
      "# b = a +(b-a), (a+1) + (b-a-1), ... (b-a) + a    =>  (a-(b-a)+1+1)/2=(2*a-b+2)/2 sposobow\n",
      "def good_cuboids(triple, limit):\n",
      "    a, b, _ = triple\n",
      "    count = 0\n",
      "    # najdluzszy bok = b, suma krotszych = a - tyle jest sposobow\n",
      "    if b <= limit:\n",
      "        count += a/2\n",
      "    # najdluzszy bok = a, suma krotszych = b\n",
      "    if b < 2*a and a < limit:\n",
      "        count += (2*a-b+2)/2\n",
      "    return count"
     ],
     "language": "python",
     "metadata": {},
     "outputs": [],
     "prompt_number": 10
    },
    {
     "cell_type": "code",
     "collapsed": false,
     "input": [
      "def total_good_cuboids(limit):\n",
      "    triples = pyth_triples(2*limit)\n",
      "    return sum(good_cuboids(t, limit) for t in triples)"
     ],
     "language": "python",
     "metadata": {},
     "outputs": [],
     "prompt_number": 16
    },
    {
     "cell_type": "code",
     "collapsed": false,
     "input": [
      "total_good_cuboids(10)"
     ],
     "language": "python",
     "metadata": {},
     "outputs": [
      {
       "metadata": {},
       "output_type": "pyout",
       "prompt_number": 19,
       "text": [
        "14"
       ]
      }
     ],
     "prompt_number": 19
    },
    {
     "cell_type": "code",
     "collapsed": false,
     "input": [
      "pyth_triples(20)"
     ],
     "language": "python",
     "metadata": {},
     "outputs": [
      {
       "metadata": {},
       "output_type": "pyout",
       "prompt_number": 20,
       "text": [
        "{(3, 4, 5),\n",
        " (5, 12, 13),\n",
        " (6, 8, 10),\n",
        " (8, 15, 17),\n",
        " (9, 12, 15),\n",
        " (12, 16, 20),\n",
        " (15, 20, 25),\n",
        " (16, 30, 34),\n",
        " (18, 24, 30)}"
       ]
      }
     ],
     "prompt_number": 20
    },
    {
     "cell_type": "code",
     "collapsed": false,
     "input": [
      "# x   y   z\n",
      "# 4   1   2\n",
      "# 3   1   3\n",
      "# 3   2   2\n",
      "# 12  1   4\n",
      "# 12  2   3\n",
      "# 8   1   5\n",
      "# 8   2   4\n",
      "# 8   3   3\n",
      "# 6   2   6\n",
      "# 6   3   5\n",
      "# 6   4   4\n",
      "# 15  1   7\n",
      "# 15  2   6\n",
      "# 15  3   5\n",
      "# 15  4   4\n",
      "# 8   7   8\n",
      "# 12  1   8\n",
      "# 12  2   7\n",
      "# 12  3   6\n",
      "# 12  4   5\n",
      "# 9   3   9\n",
      "# 9   4   8\n",
      "# 9   5   7\n",
      "# 9   6   6\n",
      "# "
     ],
     "language": "python",
     "metadata": {},
     "outputs": []
    }
   ],
   "metadata": {}
  }
 ]
}