{
 "metadata": {
  "name": "",
  "signature": "sha256:49f6c6cbe054ed25a5613fe6c95994a22fc418c3fd918df8f0d62fbd07478ecd"
 },
 "nbformat": 3,
 "nbformat_minor": 0,
 "worksheets": [
  {
   "cells": [
    {
     "cell_type": "code",
     "collapsed": false,
     "input": [
      "from functools import wraps\n",
      "def memo(func):\n",
      "    cache = {}\n",
      "    @wraps(func)\n",
      "    def wrap(*args):\n",
      "        if args not in cache:\n",
      "            cache[args] = func(*args)\n",
      "        return cache[args]\n",
      "    return wrap\n",
      "\n",
      "\n",
      "# sum of the numbers is < limit \n",
      "limit = 1000\n",
      "@memo\n",
      "def sum_decompositions(n):\n",
      "    return set([(min(i, n-i), max(i, n-i)) for i in range(2,n-1)])\n",
      "@memo\n",
      "def prod_decompositions(n):\n",
      "    deco = [(min(i, n/i),max(i,n/i)) for i in range(2, n-1) if n % i == 0 and n/i > 1]\n",
      "    return filter(lambda x: x[0]+x[1]<limit, set(deco))"
     ],
     "language": "python",
     "metadata": {},
     "outputs": [],
     "prompt_number": 76
    },
    {
     "cell_type": "code",
     "collapsed": false,
     "input": [
      "# X and Y are two different integers, greater than 1, with sum less than 100. \n",
      "# S and P are two mathematicians; S knows the sum X+Y, P knows the product X*Y, and both know \n",
      "# the information in these two sentences. The following conversation occurs.\n",
      "# 1. P says \"I cannot find these numbers.\"\n",
      "# 2. S says \"I was sure that you could not find them. I cannot find them either.\"\n",
      "# 3. P says \"Then, I found these numbers.\"\n",
      "# 4. S says \"If you could find them, then I also found them.\"\n",
      "# What are these numbers?\n",
      "# condition one\n",
      "@memo\n",
      "def cond_1(x, y):\n",
      "    return len(prod_decompositions(x*y)) > 1\n",
      "\n",
      "# condition two \n",
      "@memo\n",
      "def cond_2(x, y):\n",
      "    decomp = sum_decompositions(x+y)\n",
      "    if len(decomp) < 2:\n",
      "        return False\n",
      "    return all(len(prod_decompositions(a*b)) > 1 for a, b in decomp)\n",
      "    \n",
      "# condition three\n",
      "@memo\n",
      "def cond_3(x, y):\n",
      "    decomp = prod_decompositions(x*y)\n",
      "    return sum(cond_2(a, b) for a, b in decomp) == 1\n",
      "\n",
      "@memo\n",
      "def cond_4(x, y):\n",
      "    decomp = sum_decompositions(x + y)\n",
      "    return sum(cond_3(a,b) for a, b in decomp) == 1"
     ],
     "language": "python",
     "metadata": {},
     "outputs": [],
     "prompt_number": 77
    },
    {
     "cell_type": "code",
     "collapsed": false,
     "input": [
      "for x in range(2, 99):\n",
      "    for y in range(2, x+1):\n",
      "        if x + y >= limit:\n",
      "            continue\n",
      "        if cond_1(x, y) and cond_2(x, y) and cond_3(x, y) and cond_4(x,y):\n",
      "            print x, y"
     ],
     "language": "python",
     "metadata": {},
     "outputs": [
      {
       "output_type": "stream",
       "stream": "stdout",
       "text": [
        "13 4\n",
        "61"
       ]
      },
      {
       "output_type": "stream",
       "stream": "stdout",
       "text": [
        " 4\n"
       ]
      }
     ],
     "prompt_number": 78
    },
    {
     "cell_type": "code",
     "collapsed": false,
     "input": [
      "cond_1(5,6)"
     ],
     "language": "python",
     "metadata": {},
     "outputs": [
      {
       "metadata": {},
       "output_type": "pyout",
       "prompt_number": 57,
       "text": [
        "True"
       ]
      }
     ],
     "prompt_number": 57
    },
    {
     "cell_type": "code",
     "collapsed": true,
     "input": [
      "cond_2(5,6)"
     ],
     "language": "python",
     "metadata": {},
     "outputs": [
      {
       "metadata": {},
       "output_type": "pyout",
       "prompt_number": 58,
       "text": [
        "True"
       ]
      }
     ],
     "prompt_number": 58
    },
    {
     "cell_type": "code",
     "collapsed": false,
     "input": [
      "cond_3(5,6)"
     ],
     "language": "python",
     "metadata": {},
     "outputs": [
      {
       "metadata": {},
       "output_type": "pyout",
       "prompt_number": 59,
       "text": [
        "True"
       ]
      }
     ],
     "prompt_number": 59
    },
    {
     "cell_type": "code",
     "collapsed": false,
     "input": [
      "cond_4(5,6)"
     ],
     "language": "python",
     "metadata": {},
     "outputs": [
      {
       "metadata": {},
       "output_type": "pyout",
       "prompt_number": 60,
       "text": [
        "False"
       ]
      }
     ],
     "prompt_number": 60
    },
    {
     "cell_type": "code",
     "collapsed": false,
     "input": [
      "cond_1(13,4), cond_2(13, 4), cond_3(13, 4)"
     ],
     "language": "python",
     "metadata": {},
     "outputs": [
      {
       "metadata": {},
       "output_type": "pyout",
       "prompt_number": 61,
       "text": [
        "(False, False, False)"
       ]
      }
     ],
     "prompt_number": 61
    },
    {
     "cell_type": "code",
     "collapsed": false,
     "input": [
      "   limit = 1000\n",
      "   #before they talk any x*y where 1<x<y<x+y<limit is allowed as P\n",
      "   PAllowed1 = {} \n",
      "   for x in range(2, limit): \n",
      "       for y in range(x+1, limit-x): \n",
      "           if x*y not in PAllowed1: \n",
      "               PAllowed1[x*y] = 1 \n",
      "           else:\n",
      "               PAllowed1[x*y] += 1\n",
      "   # when P says I don't know, only P's with PAllowed1[P]>1 are allowed \n",
      "   SNotAllowed1 = {}  \n",
      "   for x in range(2, limit): \n",
      "       for y in range(x+1, limit-x): \n",
      "           if  PAllowed1[x*y] == 1 :\n",
      "               SNotAllowed1[x+y] = 1  \n",
      "   # when S says I don't know, only S's that are not in the domain of SNotAllowed1 are allowed \n",
      "   PAllowed2 = {} \n",
      "   for n in range(2, limit):\n",
      "     if n not in SNotAllowed1:\n",
      "       for x in range(2, n//2+1):\n",
      "           p = x * (n-x)\n",
      "           if p in PAllowed1 and PAllowed1[p] > 1:\n",
      "               if p in PAllowed2:\n",
      "                   PAllowed2[p] += 1\n",
      "               else:\n",
      "                   PAllowed2[p] = 1 \n",
      "   # only the P's that can by split to two x,y where x+y is allowed in only 1 way are allowed, i.e., PAllowed2[P]==1      \n",
      "   SAllowed2 = {}  \n",
      "   for n in range(2, limit):\n",
      "     if n not in SNotAllowed1:\n",
      "       for x in range(2, n//2+1):\n",
      "           if x*(n-x) in PAllowed2 and PAllowed2[x*(n-x)] == 1:\n",
      "               if n in SAllowed2:\n",
      "                   SAllowed2[n] += 1\n",
      "               else:\n",
      "                   SAllowed2[n] = 1\n",
      "   # since S knows the answer now the split can only be done in one way, so only S where SAllowed2[S]==1\n",
      "   for n in SAllowed2: \n",
      "       if SAllowed2[n] == 1:\n",
      "           for x in range(2, n//2+1):\n",
      "               if x*(n-x) in PAllowed2 and PAllowed2[x*(n-x)] == 1:\n",
      "                  print '(S,P) = ( %d , %d ), (x,y)= ( %d , %d )' % (n, x*(n-x), x, n-x)"
     ],
     "language": "python",
     "metadata": {},
     "outputs": [
      {
       "output_type": "stream",
       "stream": "stdout",
       "text": [
        "(S,P) = ( 17 , 52 ), (x,y)= ( 4 , 13 )\n"
       ]
      }
     ],
     "prompt_number": 65
    },
    {
     "cell_type": "code",
     "collapsed": false,
     "input": [],
     "language": "python",
     "metadata": {},
     "outputs": []
    }
   ],
   "metadata": {}
  }
 ]
}